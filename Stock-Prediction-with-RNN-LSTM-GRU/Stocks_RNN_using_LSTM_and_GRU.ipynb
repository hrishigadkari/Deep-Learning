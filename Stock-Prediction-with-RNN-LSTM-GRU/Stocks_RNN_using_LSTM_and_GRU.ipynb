{
  "nbformat": 4,
  "nbformat_minor": 0,
  "metadata": {
    "colab": {
      "name": "Stocks - RNN using LSTM and GRU.ipynb",
      "provenance": [],
      "collapsed_sections": [],
      "include_colab_link": true
    },
    "kernelspec": {
      "name": "python3",
      "display_name": "Python 3"
    }
  },
  "cells": [
    {
      "cell_type": "markdown",
      "metadata": {
        "id": "view-in-github",
        "colab_type": "text"
      },
      "source": [
        "<a href=\"https://colab.research.google.com/github/hrishigadkari/Deep-Learning/blob/master/Stock-Prediction-with-RNN-LSTM-GRU/Stocks_RNN_using_LSTM_and_GRU.ipynb\" target=\"_parent\"><img src=\"https://colab.research.google.com/assets/colab-badge.svg\" alt=\"Open In Colab\"/></a>"
      ]
    },
    {
      "cell_type": "markdown",
      "metadata": {
        "id": "MNXRoxj8eKq2",
        "colab_type": "text"
      },
      "source": [
        "# Theory"
      ]
    },
    {
      "cell_type": "markdown",
      "metadata": {
        "id": "FVUR9xUmYAF8",
        "colab_type": "text"
      },
      "source": [
        "### Recurrent Neural Networks\n",
        "Recurrent Neural Network is a generalization of feedforward neural network that has an internal memory. RNN is recurrent in nature as it performs the same function for every input of data while the output of the current input depends on the past one computation. After producing the output, it is copied and sent back into the recurrent network. For making a decision, it considers the current input and the output that it has learned from the previous input.\n",
        "\n",
        "Unlike feedforward neural networks, RNNs can use their internal state (memory) to process sequences of inputs. This makes them applicable to tasks such as unsegmented, connected handwriting recognition or speech recognition. In other neural networks, all the inputs are independent of each other. But in RNN, all the inputs are related to each other.\n",
        "![alt text](https://miro.medium.com/max/627/1*go8PHsPNbbV6qRiwpUQ5BQ.png)\n",
        "\n"
      ]
    },
    {
      "cell_type": "markdown",
      "metadata": {
        "id": "4YkpfHt6dfiW",
        "colab_type": "text"
      },
      "source": [
        "### LSTM (Long Short Term Memory) and GRU (Gated recurrent unit)\n",
        "\n",
        "Both LSTM (Long short term memory) and GRU (Gate Recurrent Unit) have the goal of keeping long-term dependencies effectively while handling the vanishing/exploding gradient problems (when your gradient becomes too big or simply disappear, killing your learning process).\n",
        "\n",
        "LSTMs do so via input, forget, and output gates (as you can see in the screenshot below); the input gate regulates how much of the new cell state to keep, the forget gate regulates how much of the existing memory to forget, and the output gate regulates how much of the cell state should be exposed to the next layers of the network.\n",
        "\n",
        "GRUs operates using a reset gate and an update gate. The reset gate sits between the previous activation and the next candidate activation to forget the previous state, and the update gate decides how much of the candidate activation to use in updating the cell state.\n",
        "\n",
        "GRUs are over LSTM as it is easy to modify and doesn't need memory units, therefore, faster to train than LSTM and give as per performance. Actually, the key difference comes out to be more than that: Long-short term (LSTM) perceptrons are made up using the momentum and gradient descent algorithms.\n",
        "\n",
        "[Source](https://www.quora.com/Whats-the-difference-between-LSTM-and-GRU#:~:text=as%20input%20gates.-,GRU%20use%20less%20training%20parameters%20and%20therefore%20use%20less%20memory,faster%20operation%20go%20for%20GRU.)\n",
        "\n",
        "![alt text](https://lh3.googleusercontent.com/proxy/bbaLU-fCT2TrX7wgAw-81uio1McIWQavqp-ITMnQNUc8OojSo-LCTlU-XXoYKqebwCKMFyWdns4C7h03kNql9fAENQI9mb9qa65VXQsqy8WvF83zovEjDYbM9qgWDdqz)"
      ]
    },
    {
      "cell_type": "markdown",
      "metadata": {
        "id": "H7JIsFTieWR-",
        "colab_type": "text"
      },
      "source": [
        "# Code"
      ]
    },
    {
      "cell_type": "markdown",
      "metadata": {
        "id": "3Kp-V2lifDwM",
        "colab_type": "text"
      },
      "source": [
        "## EDA"
      ]
    },
    {
      "cell_type": "code",
      "metadata": {
        "id": "sYh81kx6OdYB",
        "colab_type": "code",
        "colab": {
          "base_uri": "https://localhost:8080/",
          "height": 34
        },
        "outputId": "077db060-c8d3-46d7-f238-31d7baffb713"
      },
      "source": [
        "#This section imports all the relevant libraries that are required to run this script\n",
        "import numpy as np\n",
        "import matplotlib.pyplot as plt\n",
        "plt.style.use('fivethirtyeight')\n",
        "import pandas as pd\n",
        "from sklearn.preprocessing import MinMaxScaler\n",
        "from keras.models import Sequential\n",
        "from keras.layers import Dense, LSTM, Dropout, GRU, Bidirectional\n",
        "from keras.optimizers import SGD\n",
        "import math\n",
        "from sklearn.metrics import mean_squared_error"
      ],
      "execution_count": null,
      "outputs": [
        {
          "output_type": "stream",
          "text": [
            "Using TensorFlow backend.\n"
          ],
          "name": "stderr"
        }
      ]
    },
    {
      "cell_type": "code",
      "metadata": {
        "id": "9yfaH4OcXSE3",
        "colab_type": "code",
        "colab": {}
      },
      "source": [
        "# For plotting the graphs we would be creating the functions\n",
        "def plot_predictions(test,predicted):\n",
        "    plt.plot(test, color='red')\n",
        "    plt.plot(predicted, color='blue')\n",
        "    plt.legend()\n",
        "    plt.show()\n",
        "\n",
        "def return_rmse(test,predicted):\n",
        "    rmse = math.sqrt(mean_squared_error(test, predicted))\n",
        "    print(\"The root mean squared error is {}.\".format(rmse))"
      ],
      "execution_count": null,
      "outputs": []
    },
    {
      "cell_type": "code",
      "metadata": {
        "id": "44si8H1ravZr",
        "colab_type": "code",
        "colab": {
          "base_uri": "https://localhost:8080/",
          "height": 407
        },
        "outputId": "8680dd8b-b22a-44c6-9c07-6c19dcc3cd4b"
      },
      "source": [
        "# Understanding the data and printing them\n",
        "from IPython.display import display,HTML\n",
        "\n",
        "datasetAAPL = pd.read_csv('AAPL_2006-01-01_to_2018-01-01.csv', index_col='Date', parse_dates=['Date'])\n",
        "\n",
        "\n",
        "datasetAMZN = pd.read_csv('AMZN_2006-01-01_to_2018-01-01.csv', index_col='Date', parse_dates=['Date'])\n",
        "\n",
        "\n",
        "datasetGOOGL = pd.read_csv('GOOGL_2006-01-01_to_2018-01-01.csv', index_col='Date', parse_dates=['Date'])\n",
        "\n",
        "\n",
        "datasetMSFT = pd.read_csv('MSFT_2006-01-01_to_2018-01-01.csv', index_col='Date', parse_dates=['Date'])\n",
        "\n",
        "\n",
        "print(\"Apple\".title())\n",
        "display(datasetAAPL.head(10))"
      ],
      "execution_count": null,
      "outputs": [
        {
          "output_type": "stream",
          "text": [
            "Apple\n"
          ],
          "name": "stdout"
        },
        {
          "output_type": "display_data",
          "data": {
            "text/html": [
              "<div>\n",
              "<style scoped>\n",
              "    .dataframe tbody tr th:only-of-type {\n",
              "        vertical-align: middle;\n",
              "    }\n",
              "\n",
              "    .dataframe tbody tr th {\n",
              "        vertical-align: top;\n",
              "    }\n",
              "\n",
              "    .dataframe thead th {\n",
              "        text-align: right;\n",
              "    }\n",
              "</style>\n",
              "<table border=\"1\" class=\"dataframe\">\n",
              "  <thead>\n",
              "    <tr style=\"text-align: right;\">\n",
              "      <th></th>\n",
              "      <th>Open</th>\n",
              "      <th>High</th>\n",
              "      <th>Low</th>\n",
              "      <th>Close</th>\n",
              "      <th>Volume</th>\n",
              "      <th>Name</th>\n",
              "    </tr>\n",
              "    <tr>\n",
              "      <th>Date</th>\n",
              "      <th></th>\n",
              "      <th></th>\n",
              "      <th></th>\n",
              "      <th></th>\n",
              "      <th></th>\n",
              "      <th></th>\n",
              "    </tr>\n",
              "  </thead>\n",
              "  <tbody>\n",
              "    <tr>\n",
              "      <th>2006-01-03</th>\n",
              "      <td>10.34</td>\n",
              "      <td>10.68</td>\n",
              "      <td>10.32</td>\n",
              "      <td>10.68</td>\n",
              "      <td>201853036</td>\n",
              "      <td>AAPL</td>\n",
              "    </tr>\n",
              "    <tr>\n",
              "      <th>2006-01-04</th>\n",
              "      <td>10.73</td>\n",
              "      <td>10.85</td>\n",
              "      <td>10.64</td>\n",
              "      <td>10.71</td>\n",
              "      <td>155225609</td>\n",
              "      <td>AAPL</td>\n",
              "    </tr>\n",
              "    <tr>\n",
              "      <th>2006-01-05</th>\n",
              "      <td>10.69</td>\n",
              "      <td>10.70</td>\n",
              "      <td>10.54</td>\n",
              "      <td>10.63</td>\n",
              "      <td>112396081</td>\n",
              "      <td>AAPL</td>\n",
              "    </tr>\n",
              "    <tr>\n",
              "      <th>2006-01-06</th>\n",
              "      <td>10.75</td>\n",
              "      <td>10.96</td>\n",
              "      <td>10.65</td>\n",
              "      <td>10.90</td>\n",
              "      <td>176139334</td>\n",
              "      <td>AAPL</td>\n",
              "    </tr>\n",
              "    <tr>\n",
              "      <th>2006-01-09</th>\n",
              "      <td>10.96</td>\n",
              "      <td>11.03</td>\n",
              "      <td>10.82</td>\n",
              "      <td>10.86</td>\n",
              "      <td>168861224</td>\n",
              "      <td>AAPL</td>\n",
              "    </tr>\n",
              "    <tr>\n",
              "      <th>2006-01-10</th>\n",
              "      <td>10.89</td>\n",
              "      <td>11.70</td>\n",
              "      <td>10.83</td>\n",
              "      <td>11.55</td>\n",
              "      <td>570088246</td>\n",
              "      <td>AAPL</td>\n",
              "    </tr>\n",
              "    <tr>\n",
              "      <th>2006-01-11</th>\n",
              "      <td>11.98</td>\n",
              "      <td>12.11</td>\n",
              "      <td>11.80</td>\n",
              "      <td>11.99</td>\n",
              "      <td>373548882</td>\n",
              "      <td>AAPL</td>\n",
              "    </tr>\n",
              "    <tr>\n",
              "      <th>2006-01-12</th>\n",
              "      <td>12.14</td>\n",
              "      <td>12.34</td>\n",
              "      <td>11.95</td>\n",
              "      <td>12.04</td>\n",
              "      <td>320201966</td>\n",
              "      <td>AAPL</td>\n",
              "    </tr>\n",
              "    <tr>\n",
              "      <th>2006-01-13</th>\n",
              "      <td>12.14</td>\n",
              "      <td>12.29</td>\n",
              "      <td>12.09</td>\n",
              "      <td>12.23</td>\n",
              "      <td>194153393</td>\n",
              "      <td>AAPL</td>\n",
              "    </tr>\n",
              "    <tr>\n",
              "      <th>2006-01-17</th>\n",
              "      <td>12.24</td>\n",
              "      <td>12.34</td>\n",
              "      <td>11.98</td>\n",
              "      <td>12.10</td>\n",
              "      <td>209215265</td>\n",
              "      <td>AAPL</td>\n",
              "    </tr>\n",
              "  </tbody>\n",
              "</table>\n",
              "</div>"
            ],
            "text/plain": [
              "             Open   High    Low  Close     Volume  Name\n",
              "Date                                                   \n",
              "2006-01-03  10.34  10.68  10.32  10.68  201853036  AAPL\n",
              "2006-01-04  10.73  10.85  10.64  10.71  155225609  AAPL\n",
              "2006-01-05  10.69  10.70  10.54  10.63  112396081  AAPL\n",
              "2006-01-06  10.75  10.96  10.65  10.90  176139334  AAPL\n",
              "2006-01-09  10.96  11.03  10.82  10.86  168861224  AAPL\n",
              "2006-01-10  10.89  11.70  10.83  11.55  570088246  AAPL\n",
              "2006-01-11  11.98  12.11  11.80  11.99  373548882  AAPL\n",
              "2006-01-12  12.14  12.34  11.95  12.04  320201966  AAPL\n",
              "2006-01-13  12.14  12.29  12.09  12.23  194153393  AAPL\n",
              "2006-01-17  12.24  12.34  11.98  12.10  209215265  AAPL"
            ]
          },
          "metadata": {
            "tags": []
          }
        }
      ]
    },
    {
      "cell_type": "code",
      "metadata": {
        "id": "g3E1skT1eyxY",
        "colab_type": "code",
        "colab": {
          "base_uri": "https://localhost:8080/",
          "height": 407
        },
        "outputId": "dcdc02dd-5eaf-41ce-a555-5f90e5ee50d3"
      },
      "source": [
        "#printing the Amazon Stock dataset\n",
        "print(\"Amazon\".title())\n",
        "display(datasetAMZN.head(10))\n"
      ],
      "execution_count": null,
      "outputs": [
        {
          "output_type": "stream",
          "text": [
            "Amazon\n"
          ],
          "name": "stdout"
        },
        {
          "output_type": "display_data",
          "data": {
            "text/html": [
              "<div>\n",
              "<style scoped>\n",
              "    .dataframe tbody tr th:only-of-type {\n",
              "        vertical-align: middle;\n",
              "    }\n",
              "\n",
              "    .dataframe tbody tr th {\n",
              "        vertical-align: top;\n",
              "    }\n",
              "\n",
              "    .dataframe thead th {\n",
              "        text-align: right;\n",
              "    }\n",
              "</style>\n",
              "<table border=\"1\" class=\"dataframe\">\n",
              "  <thead>\n",
              "    <tr style=\"text-align: right;\">\n",
              "      <th></th>\n",
              "      <th>Open</th>\n",
              "      <th>High</th>\n",
              "      <th>Low</th>\n",
              "      <th>Close</th>\n",
              "      <th>Volume</th>\n",
              "      <th>Name</th>\n",
              "    </tr>\n",
              "    <tr>\n",
              "      <th>Date</th>\n",
              "      <th></th>\n",
              "      <th></th>\n",
              "      <th></th>\n",
              "      <th></th>\n",
              "      <th></th>\n",
              "      <th></th>\n",
              "    </tr>\n",
              "  </thead>\n",
              "  <tbody>\n",
              "    <tr>\n",
              "      <th>2006-01-03</th>\n",
              "      <td>47.47</td>\n",
              "      <td>47.85</td>\n",
              "      <td>46.25</td>\n",
              "      <td>47.58</td>\n",
              "      <td>7582127</td>\n",
              "      <td>AMZN</td>\n",
              "    </tr>\n",
              "    <tr>\n",
              "      <th>2006-01-04</th>\n",
              "      <td>47.48</td>\n",
              "      <td>47.73</td>\n",
              "      <td>46.69</td>\n",
              "      <td>47.25</td>\n",
              "      <td>7440914</td>\n",
              "      <td>AMZN</td>\n",
              "    </tr>\n",
              "    <tr>\n",
              "      <th>2006-01-05</th>\n",
              "      <td>47.16</td>\n",
              "      <td>48.20</td>\n",
              "      <td>47.11</td>\n",
              "      <td>47.65</td>\n",
              "      <td>5417258</td>\n",
              "      <td>AMZN</td>\n",
              "    </tr>\n",
              "    <tr>\n",
              "      <th>2006-01-06</th>\n",
              "      <td>47.97</td>\n",
              "      <td>48.58</td>\n",
              "      <td>47.32</td>\n",
              "      <td>47.87</td>\n",
              "      <td>6154285</td>\n",
              "      <td>AMZN</td>\n",
              "    </tr>\n",
              "    <tr>\n",
              "      <th>2006-01-09</th>\n",
              "      <td>46.55</td>\n",
              "      <td>47.10</td>\n",
              "      <td>46.40</td>\n",
              "      <td>47.08</td>\n",
              "      <td>8945056</td>\n",
              "      <td>AMZN</td>\n",
              "    </tr>\n",
              "    <tr>\n",
              "      <th>2006-01-10</th>\n",
              "      <td>46.41</td>\n",
              "      <td>46.75</td>\n",
              "      <td>45.36</td>\n",
              "      <td>45.65</td>\n",
              "      <td>9686957</td>\n",
              "      <td>AMZN</td>\n",
              "    </tr>\n",
              "    <tr>\n",
              "      <th>2006-01-11</th>\n",
              "      <td>45.65</td>\n",
              "      <td>45.70</td>\n",
              "      <td>44.26</td>\n",
              "      <td>44.93</td>\n",
              "      <td>8497383</td>\n",
              "      <td>AMZN</td>\n",
              "    </tr>\n",
              "    <tr>\n",
              "      <th>2006-01-12</th>\n",
              "      <td>44.79</td>\n",
              "      <td>45.09</td>\n",
              "      <td>44.09</td>\n",
              "      <td>44.36</td>\n",
              "      <td>5818301</td>\n",
              "      <td>AMZN</td>\n",
              "    </tr>\n",
              "    <tr>\n",
              "      <th>2006-01-13</th>\n",
              "      <td>44.48</td>\n",
              "      <td>44.85</td>\n",
              "      <td>44.00</td>\n",
              "      <td>44.40</td>\n",
              "      <td>4432237</td>\n",
              "      <td>AMZN</td>\n",
              "    </tr>\n",
              "    <tr>\n",
              "      <th>2006-01-17</th>\n",
              "      <td>43.95</td>\n",
              "      <td>44.32</td>\n",
              "      <td>43.66</td>\n",
              "      <td>44.00</td>\n",
              "      <td>5635225</td>\n",
              "      <td>AMZN</td>\n",
              "    </tr>\n",
              "  </tbody>\n",
              "</table>\n",
              "</div>"
            ],
            "text/plain": [
              "             Open   High    Low  Close   Volume  Name\n",
              "Date                                                 \n",
              "2006-01-03  47.47  47.85  46.25  47.58  7582127  AMZN\n",
              "2006-01-04  47.48  47.73  46.69  47.25  7440914  AMZN\n",
              "2006-01-05  47.16  48.20  47.11  47.65  5417258  AMZN\n",
              "2006-01-06  47.97  48.58  47.32  47.87  6154285  AMZN\n",
              "2006-01-09  46.55  47.10  46.40  47.08  8945056  AMZN\n",
              "2006-01-10  46.41  46.75  45.36  45.65  9686957  AMZN\n",
              "2006-01-11  45.65  45.70  44.26  44.93  8497383  AMZN\n",
              "2006-01-12  44.79  45.09  44.09  44.36  5818301  AMZN\n",
              "2006-01-13  44.48  44.85  44.00  44.40  4432237  AMZN\n",
              "2006-01-17  43.95  44.32  43.66  44.00  5635225  AMZN"
            ]
          },
          "metadata": {
            "tags": []
          }
        }
      ]
    },
    {
      "cell_type": "code",
      "metadata": {
        "id": "Akrso6Yve0n9",
        "colab_type": "code",
        "colab": {
          "base_uri": "https://localhost:8080/",
          "height": 407
        },
        "outputId": "b5bf5d87-98f9-4fea-eaff-696b85b26fa0"
      },
      "source": [
        "#printing the Google Stock dataset\n",
        "print(\"Google\".title())\n",
        "display(datasetGOOGL.head(10))\n"
      ],
      "execution_count": null,
      "outputs": [
        {
          "output_type": "stream",
          "text": [
            "Google\n"
          ],
          "name": "stdout"
        },
        {
          "output_type": "display_data",
          "data": {
            "text/html": [
              "<div>\n",
              "<style scoped>\n",
              "    .dataframe tbody tr th:only-of-type {\n",
              "        vertical-align: middle;\n",
              "    }\n",
              "\n",
              "    .dataframe tbody tr th {\n",
              "        vertical-align: top;\n",
              "    }\n",
              "\n",
              "    .dataframe thead th {\n",
              "        text-align: right;\n",
              "    }\n",
              "</style>\n",
              "<table border=\"1\" class=\"dataframe\">\n",
              "  <thead>\n",
              "    <tr style=\"text-align: right;\">\n",
              "      <th></th>\n",
              "      <th>Open</th>\n",
              "      <th>High</th>\n",
              "      <th>Low</th>\n",
              "      <th>Close</th>\n",
              "      <th>Volume</th>\n",
              "      <th>Name</th>\n",
              "    </tr>\n",
              "    <tr>\n",
              "      <th>Date</th>\n",
              "      <th></th>\n",
              "      <th></th>\n",
              "      <th></th>\n",
              "      <th></th>\n",
              "      <th></th>\n",
              "      <th></th>\n",
              "    </tr>\n",
              "  </thead>\n",
              "  <tbody>\n",
              "    <tr>\n",
              "      <th>2006-01-03</th>\n",
              "      <td>211.47</td>\n",
              "      <td>218.05</td>\n",
              "      <td>209.32</td>\n",
              "      <td>217.83</td>\n",
              "      <td>13137450</td>\n",
              "      <td>GOOGL</td>\n",
              "    </tr>\n",
              "    <tr>\n",
              "      <th>2006-01-04</th>\n",
              "      <td>222.17</td>\n",
              "      <td>224.70</td>\n",
              "      <td>220.09</td>\n",
              "      <td>222.84</td>\n",
              "      <td>15292353</td>\n",
              "      <td>GOOGL</td>\n",
              "    </tr>\n",
              "    <tr>\n",
              "      <th>2006-01-05</th>\n",
              "      <td>223.22</td>\n",
              "      <td>226.00</td>\n",
              "      <td>220.97</td>\n",
              "      <td>225.85</td>\n",
              "      <td>10815661</td>\n",
              "      <td>GOOGL</td>\n",
              "    </tr>\n",
              "    <tr>\n",
              "      <th>2006-01-06</th>\n",
              "      <td>228.66</td>\n",
              "      <td>235.49</td>\n",
              "      <td>226.85</td>\n",
              "      <td>233.06</td>\n",
              "      <td>17759521</td>\n",
              "      <td>GOOGL</td>\n",
              "    </tr>\n",
              "    <tr>\n",
              "      <th>2006-01-09</th>\n",
              "      <td>233.44</td>\n",
              "      <td>236.94</td>\n",
              "      <td>230.70</td>\n",
              "      <td>233.68</td>\n",
              "      <td>12795837</td>\n",
              "      <td>GOOGL</td>\n",
              "    </tr>\n",
              "    <tr>\n",
              "      <th>2006-01-10</th>\n",
              "      <td>232.44</td>\n",
              "      <td>235.36</td>\n",
              "      <td>231.25</td>\n",
              "      <td>235.11</td>\n",
              "      <td>9104719</td>\n",
              "      <td>GOOGL</td>\n",
              "    </tr>\n",
              "    <tr>\n",
              "      <th>2006-01-11</th>\n",
              "      <td>235.87</td>\n",
              "      <td>237.79</td>\n",
              "      <td>234.82</td>\n",
              "      <td>236.05</td>\n",
              "      <td>9008664</td>\n",
              "      <td>GOOGL</td>\n",
              "    </tr>\n",
              "    <tr>\n",
              "      <th>2006-01-12</th>\n",
              "      <td>237.10</td>\n",
              "      <td>237.73</td>\n",
              "      <td>230.98</td>\n",
              "      <td>232.05</td>\n",
              "      <td>10125212</td>\n",
              "      <td>GOOGL</td>\n",
              "    </tr>\n",
              "    <tr>\n",
              "      <th>2006-01-13</th>\n",
              "      <td>232.39</td>\n",
              "      <td>233.68</td>\n",
              "      <td>231.04</td>\n",
              "      <td>233.36</td>\n",
              "      <td>7660220</td>\n",
              "      <td>GOOGL</td>\n",
              "    </tr>\n",
              "    <tr>\n",
              "      <th>2006-01-17</th>\n",
              "      <td>231.76</td>\n",
              "      <td>235.18</td>\n",
              "      <td>231.50</td>\n",
              "      <td>233.79</td>\n",
              "      <td>8335300</td>\n",
              "      <td>GOOGL</td>\n",
              "    </tr>\n",
              "  </tbody>\n",
              "</table>\n",
              "</div>"
            ],
            "text/plain": [
              "              Open    High     Low   Close    Volume   Name\n",
              "Date                                                       \n",
              "2006-01-03  211.47  218.05  209.32  217.83  13137450  GOOGL\n",
              "2006-01-04  222.17  224.70  220.09  222.84  15292353  GOOGL\n",
              "2006-01-05  223.22  226.00  220.97  225.85  10815661  GOOGL\n",
              "2006-01-06  228.66  235.49  226.85  233.06  17759521  GOOGL\n",
              "2006-01-09  233.44  236.94  230.70  233.68  12795837  GOOGL\n",
              "2006-01-10  232.44  235.36  231.25  235.11   9104719  GOOGL\n",
              "2006-01-11  235.87  237.79  234.82  236.05   9008664  GOOGL\n",
              "2006-01-12  237.10  237.73  230.98  232.05  10125212  GOOGL\n",
              "2006-01-13  232.39  233.68  231.04  233.36   7660220  GOOGL\n",
              "2006-01-17  231.76  235.18  231.50  233.79   8335300  GOOGL"
            ]
          },
          "metadata": {
            "tags": []
          }
        }
      ]
    },
    {
      "cell_type": "code",
      "metadata": {
        "id": "6RTt3Fz2e1pm",
        "colab_type": "code",
        "colab": {
          "base_uri": "https://localhost:8080/",
          "height": 407
        },
        "outputId": "ad5c4de9-84c3-49ef-f57f-2fb88aa3fad6"
      },
      "source": [
        "#printing the Microsoft Stock dataset\n",
        "print(\"Microsoft\".title())\n",
        "display(datasetMSFT.head(10))"
      ],
      "execution_count": null,
      "outputs": [
        {
          "output_type": "stream",
          "text": [
            "Microsoft\n"
          ],
          "name": "stdout"
        },
        {
          "output_type": "display_data",
          "data": {
            "text/html": [
              "<div>\n",
              "<style scoped>\n",
              "    .dataframe tbody tr th:only-of-type {\n",
              "        vertical-align: middle;\n",
              "    }\n",
              "\n",
              "    .dataframe tbody tr th {\n",
              "        vertical-align: top;\n",
              "    }\n",
              "\n",
              "    .dataframe thead th {\n",
              "        text-align: right;\n",
              "    }\n",
              "</style>\n",
              "<table border=\"1\" class=\"dataframe\">\n",
              "  <thead>\n",
              "    <tr style=\"text-align: right;\">\n",
              "      <th></th>\n",
              "      <th>Open</th>\n",
              "      <th>High</th>\n",
              "      <th>Low</th>\n",
              "      <th>Close</th>\n",
              "      <th>Volume</th>\n",
              "      <th>Name</th>\n",
              "    </tr>\n",
              "    <tr>\n",
              "      <th>Date</th>\n",
              "      <th></th>\n",
              "      <th></th>\n",
              "      <th></th>\n",
              "      <th></th>\n",
              "      <th></th>\n",
              "      <th></th>\n",
              "    </tr>\n",
              "  </thead>\n",
              "  <tbody>\n",
              "    <tr>\n",
              "      <th>2006-01-03</th>\n",
              "      <td>26.25</td>\n",
              "      <td>27.00</td>\n",
              "      <td>26.10</td>\n",
              "      <td>26.84</td>\n",
              "      <td>79974418</td>\n",
              "      <td>MSFT</td>\n",
              "    </tr>\n",
              "    <tr>\n",
              "      <th>2006-01-04</th>\n",
              "      <td>26.77</td>\n",
              "      <td>27.08</td>\n",
              "      <td>26.77</td>\n",
              "      <td>26.97</td>\n",
              "      <td>57975661</td>\n",
              "      <td>MSFT</td>\n",
              "    </tr>\n",
              "    <tr>\n",
              "      <th>2006-01-05</th>\n",
              "      <td>26.96</td>\n",
              "      <td>27.13</td>\n",
              "      <td>26.91</td>\n",
              "      <td>26.99</td>\n",
              "      <td>48247610</td>\n",
              "      <td>MSFT</td>\n",
              "    </tr>\n",
              "    <tr>\n",
              "      <th>2006-01-06</th>\n",
              "      <td>26.89</td>\n",
              "      <td>27.00</td>\n",
              "      <td>26.49</td>\n",
              "      <td>26.91</td>\n",
              "      <td>100969092</td>\n",
              "      <td>MSFT</td>\n",
              "    </tr>\n",
              "    <tr>\n",
              "      <th>2006-01-09</th>\n",
              "      <td>26.93</td>\n",
              "      <td>27.07</td>\n",
              "      <td>26.76</td>\n",
              "      <td>26.86</td>\n",
              "      <td>55627836</td>\n",
              "      <td>MSFT</td>\n",
              "    </tr>\n",
              "    <tr>\n",
              "      <th>2006-01-10</th>\n",
              "      <td>26.65</td>\n",
              "      <td>27.02</td>\n",
              "      <td>26.59</td>\n",
              "      <td>27.00</td>\n",
              "      <td>64924946</td>\n",
              "      <td>MSFT</td>\n",
              "    </tr>\n",
              "    <tr>\n",
              "      <th>2006-01-11</th>\n",
              "      <td>27.01</td>\n",
              "      <td>27.39</td>\n",
              "      <td>26.90</td>\n",
              "      <td>27.29</td>\n",
              "      <td>70123544</td>\n",
              "      <td>MSFT</td>\n",
              "    </tr>\n",
              "    <tr>\n",
              "      <th>2006-01-12</th>\n",
              "      <td>27.25</td>\n",
              "      <td>27.26</td>\n",
              "      <td>26.97</td>\n",
              "      <td>27.14</td>\n",
              "      <td>45994725</td>\n",
              "      <td>MSFT</td>\n",
              "    </tr>\n",
              "    <tr>\n",
              "      <th>2006-01-13</th>\n",
              "      <td>27.03</td>\n",
              "      <td>27.25</td>\n",
              "      <td>27.01</td>\n",
              "      <td>27.19</td>\n",
              "      <td>41449046</td>\n",
              "      <td>MSFT</td>\n",
              "    </tr>\n",
              "    <tr>\n",
              "      <th>2006-01-17</th>\n",
              "      <td>26.90</td>\n",
              "      <td>27.19</td>\n",
              "      <td>26.90</td>\n",
              "      <td>26.99</td>\n",
              "      <td>58574807</td>\n",
              "      <td>MSFT</td>\n",
              "    </tr>\n",
              "  </tbody>\n",
              "</table>\n",
              "</div>"
            ],
            "text/plain": [
              "             Open   High    Low  Close     Volume  Name\n",
              "Date                                                   \n",
              "2006-01-03  26.25  27.00  26.10  26.84   79974418  MSFT\n",
              "2006-01-04  26.77  27.08  26.77  26.97   57975661  MSFT\n",
              "2006-01-05  26.96  27.13  26.91  26.99   48247610  MSFT\n",
              "2006-01-06  26.89  27.00  26.49  26.91  100969092  MSFT\n",
              "2006-01-09  26.93  27.07  26.76  26.86   55627836  MSFT\n",
              "2006-01-10  26.65  27.02  26.59  27.00   64924946  MSFT\n",
              "2006-01-11  27.01  27.39  26.90  27.29   70123544  MSFT\n",
              "2006-01-12  27.25  27.26  26.97  27.14   45994725  MSFT\n",
              "2006-01-13  27.03  27.25  27.01  27.19   41449046  MSFT\n",
              "2006-01-17  26.90  27.19  26.90  26.99   58574807  MSFT"
            ]
          },
          "metadata": {
            "tags": []
          }
        }
      ]
    },
    {
      "cell_type": "code",
      "metadata": {
        "id": "P6eEDTmfa7Ij",
        "colab_type": "code",
        "colab": {}
      },
      "source": [
        "# Checking for missing values (if any) within the dataset\n",
        "training_setAAPL = datasetAAPL[:'2016'].iloc[:,1:2].values\n",
        "test_setAAPL = datasetAAPL['2017':].iloc[:,1:2].values\n",
        "\n",
        "training_setAMZN = datasetAMZN[:'2016'].iloc[:,1:2].values\n",
        "test_setAMZN = datasetAMZN['2017':].iloc[:,1:2].values\n",
        "\n",
        "training_setGOOGL = datasetGOOGL[:'2016'].iloc[:,1:2].values\n",
        "test_setGOOGL = datasetGOOGL['2017':].iloc[:,1:2].values\n",
        "\n",
        "training_setMSFT = datasetMSFT[:'2016'].iloc[:,1:2].values\n",
        "test_setMSFT = datasetMSFT['2017':].iloc[:,1:2].values"
      ],
      "execution_count": null,
      "outputs": []
    },
    {
      "cell_type": "code",
      "metadata": {
        "id": "I9tLYoWvbO64",
        "colab_type": "code",
        "colab": {
          "base_uri": "https://localhost:8080/",
          "height": 303
        },
        "outputId": "4d3351a9-915c-4915-d672-4df826603de2"
      },
      "source": [
        "# We have chosen 'High' attribute for prices.\n",
        "datasetAAPL[\"High\"][:'2016'].plot(figsize=(16,4),legend=True)\n",
        "datasetAAPL[\"High\"]['2017':].plot(figsize=(16,4),legend=True)\n",
        "plt.legend(['Training set (Before 2017)','Test set (2017 and beyond)'])\n",
        "plt.title('AAPL stock price')\n",
        "plt.show()\n"
      ],
      "execution_count": null,
      "outputs": [
        {
          "output_type": "display_data",
          "data": {
            "image/png": "[encoded data removed]",
            "text/plain": [
              "<Figure size 1152x288 with 1 Axes>"
            ]
          },
          "metadata": {
            "tags": []
          }
        }
      ]
    },
    {
      "cell_type": "code",
      "metadata": {
        "id": "45NAtKxnb-nI",
        "colab_type": "code",
        "colab": {
          "base_uri": "https://localhost:8080/",
          "height": 303
        },
        "outputId": "2543a225-3a5c-4cff-9ae0-2155232dfdbf"
      },
      "source": [
        "# Same for Amazon\n",
        "datasetAMZN[\"High\"][:'2016'].plot(figsize=(16,4),legend=True)\n",
        "datasetAMZN[\"High\"]['2017':].plot(figsize=(16,4),legend=True)\n",
        "plt.legend(['Training set (Before 2017)','Test set (2017 and beyond)'])\n",
        "plt.title('AMZN stock price')\n",
        "plt.show()"
      ],
      "execution_count": null,
      "outputs": [
        {
          "output_type": "display_data",
          "data": {
            "image/png": "[encoded data removed]",
            "text/plain": [
              "<Figure size 1152x288 with 1 Axes>"
            ]
          },
          "metadata": {
            "tags": []
          }
        }
      ]
    },
    {
      "cell_type": "code",
      "metadata": {
        "id": "4bEewkSmhU_R",
        "colab_type": "code",
        "colab": {
          "base_uri": "https://localhost:8080/",
          "height": 303
        },
        "outputId": "22acd1ec-578e-4af3-b41a-a813f8ea5d06"
      },
      "source": [
        "#And for Google\n",
        "datasetGOOGL[\"High\"][:'2016'].plot(figsize=(16,4),legend=True)\n",
        "datasetGOOGL[\"High\"]['2017':].plot(figsize=(16,4),legend=True)\n",
        "plt.legend(['Training set (Before 2017)','Test set (2017 and beyond)'])\n",
        "plt.title('GOOGL stock price')\n",
        "plt.show()"
      ],
      "execution_count": null,
      "outputs": [
        {
          "output_type": "display_data",
          "data": {
            "image/png": "[encoded data removed]",
            "text/plain": [
              "<Figure size 1152x288 with 1 Axes>"
            ]
          },
          "metadata": {
            "tags": []
          }
        }
      ]
    },
    {
      "cell_type": "code",
      "metadata": {
        "id": "tAqFboMuhdNJ",
        "colab_type": "code",
        "colab": {
          "base_uri": "https://localhost:8080/",
          "height": 303
        },
        "outputId": "cd15bbbf-6e7b-42c9-9024-6d3784e21cae"
      },
      "source": [
        "#And for Microsoft\n",
        "datasetMSFT[\"High\"][:'2016'].plot(figsize=(16,4),legend=True)\n",
        "datasetMSFT[\"High\"]['2017':].plot(figsize=(16,4),legend=True)\n",
        "plt.legend(['Training set (Before 2017)','Test set (2017 and beyond)'])\n",
        "plt.title('MSFT stock price')\n",
        "plt.show()"
      ],
      "execution_count": null,
      "outputs": [
        {
          "output_type": "display_data",
          "data": {
            "image/png": "[encoded data removed]",
            "text/plain": [
              "<Figure size 1152x288 with 1 Axes>"
            ]
          },
          "metadata": {
            "tags": []
          }
        }
      ]
    },
    {
      "cell_type": "code",
      "metadata": {
        "id": "pu6i1UAxbcaY",
        "colab_type": "code",
        "colab": {}
      },
      "source": [
        "# Scaling the training set\n",
        "sc = MinMaxScaler(feature_range=(0,1))\n",
        "training_set_scaledAAPL = sc.fit_transform(training_setAAPL)\n",
        "training_set_scaledGOOGL = sc.fit_transform(training_setGOOGL)\n",
        "training_set_scaledMSFT = sc.fit_transform(training_setMSFT)\n",
        "training_set_scaledAMZN = sc.fit_transform(training_setAMZN)\n"
      ],
      "execution_count": null,
      "outputs": []
    },
    {
      "cell_type": "code",
      "metadata": {
        "id": "Vpu-r_b4fgsF",
        "colab_type": "code",
        "colab": {}
      },
      "source": [
        "# Since LSTMs store long term memory state, we create a data structure with 60 timesteps and 1 output\n",
        "# So for each element of training set, we have 60 previous training set elements\n",
        "# \n",
        "X_trainAAPL,X_trainAMZN, X_trainGOOGL, X_trainMSFT = [], [], [], []\n",
        "y_trainAAPL, y_trainAMZN, y_trainGOOGL, y_trainMSFT = [],[],[],[]\n",
        "for i in range(60,2768):\n",
        "    X_trainAAPL.append(training_set_scaledAAPL[i-60:i,0])\n",
        "    y_trainAAPL.append(training_set_scaledAAPL[i,0])\n",
        "X_trainAAPL, y_trainAAPL = np.array(X_trainAAPL), np.array(y_trainAAPL)\n",
        "\n",
        "for i in range(60,2768):\n",
        "    X_trainAMZN.append(training_set_scaledAMZN[i-60:i,0])\n",
        "    y_trainAMZN.append(training_set_scaledAMZN[i,0])\n",
        "X_trainAMZN, y_trainAMZN = np.array(X_trainAMZN), np.array(y_trainAMZN)\n",
        "\n",
        "\n",
        "for i in range(60,2768):\n",
        "    X_trainGOOGL.append(training_set_scaledGOOGL[i-60:i,0])\n",
        "    y_trainGOOGL.append(training_set_scaledGOOGL[i,0])\n",
        "X_trainGOOGL, y_trainGOOGL = np.array(X_trainGOOGL), np.array(y_trainGOOGL)\n",
        "\n",
        "\n",
        "for i in range(60,2768):\n",
        "    X_trainMSFT.append(training_set_scaledMSFT[i-60:i,0])\n",
        "    y_trainMSFT.append(training_set_scaledMSFT[i,0])\n",
        "X_trainMSFT, y_trainMSFT = np.array(X_trainMSFT), np.array(y_trainMSFT)\n",
        "\n"
      ],
      "execution_count": null,
      "outputs": []
    },
    {
      "cell_type": "code",
      "metadata": {
        "id": "RgSAErf1i2l6",
        "colab_type": "code",
        "colab": {}
      },
      "source": [
        "# Reshaping X_train for efficient modelling, for all the stock prices\n",
        "X_trainAAPL = np.reshape(X_trainAAPL, (X_trainAAPL.shape[0],X_trainAAPL.shape[1],1))\n",
        "X_trainAMZN = np.reshape(X_trainAMZN, (X_trainAMZN.shape[0],X_trainAMZN.shape[1],1))\n",
        "X_trainGOOGL = np.reshape(X_trainGOOGL, (X_trainGOOGL.shape[0],X_trainGOOGL.shape[1],1))\n",
        "X_trainMSFT = np.reshape(X_trainMSFT, (X_trainMSFT.shape[0],X_trainMSFT.shape[1],1))"
      ],
      "execution_count": null,
      "outputs": []
    },
    {
      "cell_type": "code",
      "metadata": {
        "id": "JdlIe2QfuONq",
        "colab_type": "code",
        "colab": {
          "base_uri": "https://localhost:8080/",
          "height": 1000
        },
        "outputId": "6d6977cf-250e-402c-9059-444036633b2a"
      },
      "source": [
        "regressor = Sequential()\n",
        "# First LSTM layer with Dropout regularisation\n",
        "regressor.add(LSTM(units=50, return_sequences=True, input_shape=(X_trainAAPL.shape[1],1)))\n",
        "regressor.add(Dropout(0.2))\n",
        "# Second LSTM layer\n",
        "regressor.add(LSTM(units=50, return_sequences=True))\n",
        "regressor.add(Dropout(0.2))\n",
        "# Third LSTM layer\n",
        "regressor.add(LSTM(units=50, return_sequences=True))\n",
        "regressor.add(Dropout(0.2))\n",
        "# Fourth LSTM layer\n",
        "regressor.add(LSTM(units=50))\n",
        "regressor.add(Dropout(0.2))\n",
        "# The output layer\n",
        "regressor.add(Dense(units=1))\n",
        "\n",
        "# Compiling the RNN\n",
        "regressor.compile(optimizer='rmsprop',loss='mean_squared_error')\n",
        "# Fitting to the training set\n",
        "regressor.fit(X_trainAAPL,y_trainAAPL,epochs=50,batch_size=32)"
      ],
      "execution_count": null,
      "outputs": [
        {
          "output_type": "stream",
          "text": [
            "Epoch 1/50\n",
            "2708/2708 [==============================] - 13s 5ms/step - loss: 0.0168\n",
            "Epoch 2/50\n",
            "2708/2708 [==============================] - 11s 4ms/step - loss: 0.0069\n",
            "Epoch 3/50\n",
            "2708/2708 [==============================] - 11s 4ms/step - loss: 0.0060\n",
            "Epoch 4/50\n",
            "2708/2708 [==============================] - 11s 4ms/step - loss: 0.0045\n",
            "Epoch 5/50\n",
            "2708/2708 [==============================] - 11s 4ms/step - loss: 0.0045\n",
            "Epoch 6/50\n",
            "2708/2708 [==============================] - 12s 4ms/step - loss: 0.0040\n",
            "Epoch 7/50\n",
            "2708/2708 [==============================] - 11s 4ms/step - loss: 0.0039\n",
            "Epoch 8/50\n",
            "2708/2708 [==============================] - 11s 4ms/step - loss: 0.0033\n",
            "Epoch 9/50\n",
            "2708/2708 [==============================] - 11s 4ms/step - loss: 0.0031\n",
            "Epoch 10/50\n",
            "2708/2708 [==============================] - 11s 4ms/step - loss: 0.0030\n",
            "Epoch 11/50\n",
            "2708/2708 [==============================] - 11s 4ms/step - loss: 0.0028\n",
            "Epoch 12/50\n",
            "2708/2708 [==============================] - 11s 4ms/step - loss: 0.0027\n",
            "Epoch 13/50\n",
            "2708/2708 [==============================] - 11s 4ms/step - loss: 0.0023\n",
            "Epoch 14/50\n",
            "2708/2708 [==============================] - 11s 4ms/step - loss: 0.0025\n",
            "Epoch 15/50\n",
            "2708/2708 [==============================] - 11s 4ms/step - loss: 0.0025\n",
            "Epoch 16/50\n",
            "2708/2708 [==============================] - 11s 4ms/step - loss: 0.0021\n",
            "Epoch 17/50\n",
            "2708/2708 [==============================] - 11s 4ms/step - loss: 0.0023\n",
            "Epoch 18/50\n",
            "2708/2708 [==============================] - 11s 4ms/step - loss: 0.0022\n",
            "Epoch 19/50\n",
            "2708/2708 [==============================] - 11s 4ms/step - loss: 0.0020\n",
            "Epoch 20/50\n",
            "2708/2708 [==============================] - 12s 4ms/step - loss: 0.0020\n",
            "Epoch 21/50\n",
            "2708/2708 [==============================] - 11s 4ms/step - loss: 0.0019\n",
            "Epoch 22/50\n",
            "2708/2708 [==============================] - 11s 4ms/step - loss: 0.0021\n",
            "Epoch 23/50\n",
            "2708/2708 [==============================] - 11s 4ms/step - loss: 0.0019\n",
            "Epoch 24/50\n",
            "2708/2708 [==============================] - 11s 4ms/step - loss: 0.0019\n",
            "Epoch 25/50\n",
            "2708/2708 [==============================] - 11s 4ms/step - loss: 0.0019\n",
            "Epoch 26/50\n",
            "2708/2708 [==============================] - 11s 4ms/step - loss: 0.0018\n",
            "Epoch 27/50\n",
            "2708/2708 [==============================] - 11s 4ms/step - loss: 0.0018\n",
            "Epoch 28/50\n",
            "2708/2708 [==============================] - 11s 4ms/step - loss: 0.0017\n",
            "Epoch 29/50\n",
            "2708/2708 [==============================] - 11s 4ms/step - loss: 0.0017\n",
            "Epoch 30/50\n",
            "2708/2708 [==============================] - 11s 4ms/step - loss: 0.0018\n",
            "Epoch 31/50\n",
            "2708/2708 [==============================] - 11s 4ms/step - loss: 0.0017\n",
            "Epoch 32/50\n",
            "2708/2708 [==============================] - 11s 4ms/step - loss: 0.0017\n",
            "Epoch 33/50\n",
            "2708/2708 [==============================] - 11s 4ms/step - loss: 0.0017\n",
            "Epoch 34/50\n",
            "2708/2708 [==============================] - 12s 4ms/step - loss: 0.0016\n",
            "Epoch 35/50\n",
            "2708/2708 [==============================] - 11s 4ms/step - loss: 0.0016\n",
            "Epoch 36/50\n",
            "2708/2708 [==============================] - 11s 4ms/step - loss: 0.0014\n",
            "Epoch 37/50\n",
            "2708/2708 [==============================] - 11s 4ms/step - loss: 0.0016\n",
            "Epoch 38/50\n",
            "2708/2708 [==============================] - 11s 4ms/step - loss: 0.0016\n",
            "Epoch 39/50\n",
            "2708/2708 [==============================] - 11s 4ms/step - loss: 0.0016\n",
            "Epoch 40/50\n",
            "2708/2708 [==============================] - 11s 4ms/step - loss: 0.0016\n",
            "Epoch 41/50\n",
            "2708/2708 [==============================] - 11s 4ms/step - loss: 0.0015\n",
            "Epoch 42/50\n",
            "2708/2708 [==============================] - 11s 4ms/step - loss: 0.0015\n",
            "Epoch 43/50\n",
            "2708/2708 [==============================] - 11s 4ms/step - loss: 0.0015\n",
            "Epoch 44/50\n",
            "2708/2708 [==============================] - 11s 4ms/step - loss: 0.0014\n",
            "Epoch 45/50\n",
            "2708/2708 [==============================] - 11s 4ms/step - loss: 0.0015\n",
            "Epoch 46/50\n",
            "2708/2708 [==============================] - 11s 4ms/step - loss: 0.0014\n",
            "Epoch 47/50\n",
            "2708/2708 [==============================] - 11s 4ms/step - loss: 0.0014\n",
            "Epoch 48/50\n",
            "2708/2708 [==============================] - 11s 4ms/step - loss: 0.0014\n",
            "Epoch 49/50\n",
            "2708/2708 [==============================] - 11s 4ms/step - loss: 0.0014\n",
            "Epoch 50/50\n",
            "2708/2708 [==============================] - 11s 4ms/step - loss: 0.0014\n"
          ],
          "name": "stdout"
        },
        {
          "output_type": "execute_result",
          "data": {
            "text/plain": [
              "<keras.callbacks.callbacks.History at 0x7fd91b257978>"
            ]
          },
          "metadata": {
            "tags": []
          },
          "execution_count": 16
        }
      ]
    },
    {
      "cell_type": "code",
      "metadata": {
        "id": "VF1F8bNRve7d",
        "colab_type": "code",
        "colab": {
          "base_uri": "https://localhost:8080/",
          "height": 1000
        },
        "outputId": "c6fb7559-b0ea-4e3e-e388-7f7ba5863de9"
      },
      "source": [
        "regressor = Sequential()\n",
        "# First LSTM layer with Dropout regularisation\n",
        "regressor.add(LSTM(units=50, return_sequences=True, input_shape=(X_trainAMZN.shape[1],1)))\n",
        "regressor.add(Dropout(0.2))\n",
        "# Second LSTM layer\n",
        "regressor.add(LSTM(units=50, return_sequences=True))\n",
        "regressor.add(Dropout(0.2))\n",
        "# Third LSTM layer\n",
        "regressor.add(LSTM(units=50, return_sequences=True))\n",
        "regressor.add(Dropout(0.2))\n",
        "# Fourth LSTM layer\n",
        "regressor.add(LSTM(units=50))\n",
        "regressor.add(Dropout(0.2))\n",
        "# The output layer\n",
        "regressor.add(Dense(units=1))\n",
        "\n",
        "# Compiling the RNN\n",
        "regressor.compile(optimizer='rmsprop',loss='mean_squared_error')\n",
        "# Fitting to the training set\n",
        "regressor.fit(X_trainAMZN,y_trainAMZN,epochs=50,batch_size=32)"
      ],
      "execution_count": null,
      "outputs": [
        {
          "output_type": "stream",
          "text": [
            "Epoch 1/50\n",
            "2708/2708 [==============================] - 13s 5ms/step - loss: 0.0105\n",
            "Epoch 2/50\n",
            "2708/2708 [==============================] - 11s 4ms/step - loss: 0.0048\n",
            "Epoch 3/50\n",
            "2708/2708 [==============================] - 11s 4ms/step - loss: 0.0037\n",
            "Epoch 4/50\n",
            "2708/2708 [==============================] - 11s 4ms/step - loss: 0.0029\n",
            "Epoch 5/50\n",
            "2708/2708 [==============================] - 11s 4ms/step - loss: 0.0025\n",
            "Epoch 6/50\n",
            "2708/2708 [==============================] - 11s 4ms/step - loss: 0.0025\n",
            "Epoch 7/50\n",
            "2708/2708 [==============================] - 11s 4ms/step - loss: 0.0023\n",
            "Epoch 8/50\n",
            "2708/2708 [==============================] - 11s 4ms/step - loss: 0.0020\n",
            "Epoch 9/50\n",
            "2708/2708 [==============================] - 11s 4ms/step - loss: 0.0019\n",
            "Epoch 10/50\n",
            "2708/2708 [==============================] - 11s 4ms/step - loss: 0.0020\n",
            "Epoch 11/50\n",
            "2708/2708 [==============================] - 11s 4ms/step - loss: 0.0016\n",
            "Epoch 12/50\n",
            "2708/2708 [==============================] - 11s 4ms/step - loss: 0.0017\n",
            "Epoch 13/50\n",
            "2708/2708 [==============================] - 11s 4ms/step - loss: 0.0017\n",
            "Epoch 14/50\n",
            "2708/2708 [==============================] - 11s 4ms/step - loss: 0.0015\n",
            "Epoch 15/50\n",
            "2708/2708 [==============================] - 11s 4ms/step - loss: 0.0015\n",
            "Epoch 16/50\n",
            "2708/2708 [==============================] - 11s 4ms/step - loss: 0.0015\n",
            "Epoch 17/50\n",
            "2708/2708 [==============================] - 11s 4ms/step - loss: 0.0015\n",
            "Epoch 18/50\n",
            "2708/2708 [==============================] - 11s 4ms/step - loss: 0.0014\n",
            "Epoch 19/50\n",
            "2708/2708 [==============================] - 11s 4ms/step - loss: 0.0012\n",
            "Epoch 20/50\n",
            "2708/2708 [==============================] - 11s 4ms/step - loss: 0.0013\n",
            "Epoch 21/50\n",
            "2708/2708 [==============================] - 11s 4ms/step - loss: 0.0013\n",
            "Epoch 22/50\n",
            "2708/2708 [==============================] - 11s 4ms/step - loss: 0.0012\n",
            "Epoch 23/50\n",
            "2708/2708 [==============================] - 11s 4ms/step - loss: 0.0012\n",
            "Epoch 24/50\n",
            "2708/2708 [==============================] - 11s 4ms/step - loss: 0.0011\n",
            "Epoch 25/50\n",
            "2708/2708 [==============================] - 11s 4ms/step - loss: 0.0012\n",
            "Epoch 26/50\n",
            "2708/2708 [==============================] - 11s 4ms/step - loss: 0.0011\n",
            "Epoch 27/50\n",
            "2708/2708 [==============================] - 11s 4ms/step - loss: 0.0012\n",
            "Epoch 28/50\n",
            "2708/2708 [==============================] - 11s 4ms/step - loss: 0.0013\n",
            "Epoch 29/50\n",
            "2708/2708 [==============================] - 11s 4ms/step - loss: 0.0011\n",
            "Epoch 30/50\n",
            "2708/2708 [==============================] - 11s 4ms/step - loss: 0.0010\n",
            "Epoch 31/50\n",
            "2708/2708 [==============================] - 11s 4ms/step - loss: 0.0011\n",
            "Epoch 32/50\n",
            "2708/2708 [==============================] - 11s 4ms/step - loss: 0.0011\n",
            "Epoch 33/50\n",
            "2708/2708 [==============================] - 11s 4ms/step - loss: 0.0010\n",
            "Epoch 34/50\n",
            "2708/2708 [==============================] - 11s 4ms/step - loss: 0.0011\n",
            "Epoch 35/50\n",
            "2708/2708 [==============================] - 11s 4ms/step - loss: 0.0011\n",
            "Epoch 36/50\n",
            "2708/2708 [==============================] - 11s 4ms/step - loss: 9.2638e-04\n",
            "Epoch 37/50\n",
            "2708/2708 [==============================] - 11s 4ms/step - loss: 0.0011\n",
            "Epoch 38/50\n",
            "2708/2708 [==============================] - 11s 4ms/step - loss: 0.0010\n",
            "Epoch 39/50\n",
            "2708/2708 [==============================] - 11s 4ms/step - loss: 0.0011\n",
            "Epoch 40/50\n",
            "2708/2708 [==============================] - 11s 4ms/step - loss: 9.9471e-04\n",
            "Epoch 41/50\n",
            "2708/2708 [==============================] - 11s 4ms/step - loss: 9.6335e-04\n",
            "Epoch 42/50\n",
            "2708/2708 [==============================] - 11s 4ms/step - loss: 9.7862e-04\n",
            "Epoch 43/50\n",
            "2708/2708 [==============================] - 11s 4ms/step - loss: 9.3495e-04\n",
            "Epoch 44/50\n",
            "2708/2708 [==============================] - 13s 5ms/step - loss: 9.0759e-04\n",
            "Epoch 45/50\n",
            "2708/2708 [==============================] - 13s 5ms/step - loss: 9.3693e-04\n",
            "Epoch 46/50\n",
            "2708/2708 [==============================] - 11s 4ms/step - loss: 9.6554e-04\n",
            "Epoch 47/50\n",
            "2708/2708 [==============================] - 11s 4ms/step - loss: 8.9208e-04\n",
            "Epoch 48/50\n",
            "2708/2708 [==============================] - 11s 4ms/step - loss: 9.0642e-04\n",
            "Epoch 49/50\n",
            "2708/2708 [==============================] - 11s 4ms/step - loss: 0.0010\n",
            "Epoch 50/50\n",
            "2708/2708 [==============================] - 11s 4ms/step - loss: 9.0778e-04\n"
          ],
          "name": "stdout"
        },
        {
          "output_type": "execute_result",
          "data": {
            "text/plain": [
              "<keras.callbacks.callbacks.History at 0x7fd911e9f128>"
            ]
          },
          "metadata": {
            "tags": []
          },
          "execution_count": 17
        }
      ]
    },
    {
      "cell_type": "code",
      "metadata": {
        "id": "xc-bqYrkyeS3",
        "colab_type": "code",
        "colab": {
          "base_uri": "https://localhost:8080/",
          "height": 1000
        },
        "outputId": "ebedb43a-cf81-456c-e0da-8d9d36962079"
      },
      "source": [
        "regressor = Sequential()\n",
        "# First LSTM layer with Dropout regularisation\n",
        "regressor.add(LSTM(units=50, return_sequences=True, input_shape=(X_trainGOOGL.shape[1],1)))\n",
        "regressor.add(Dropout(0.2))\n",
        "# Second LSTM layer\n",
        "regressor.add(LSTM(units=50, return_sequences=True))\n",
        "regressor.add(Dropout(0.2))\n",
        "# Third LSTM layer\n",
        "regressor.add(LSTM(units=50, return_sequences=True))\n",
        "regressor.add(Dropout(0.2))\n",
        "# Fourth LSTM layer\n",
        "regressor.add(LSTM(units=50))\n",
        "regressor.add(Dropout(0.2))\n",
        "# The output layer\n",
        "regressor.add(Dense(units=1))\n",
        "\n",
        "# Compiling the RNN\n",
        "regressor.compile(optimizer='rmsprop',loss='mean_squared_error')\n",
        "# Fitting to the training set\n",
        "regressor.fit(X_trainGOOGL,y_trainGOOGL,epochs=50,batch_size=32)"
      ],
      "execution_count": null,
      "outputs": [
        {
          "output_type": "stream",
          "text": [
            "Epoch 1/50\n",
            "2708/2708 [==============================] - 12s 5ms/step - loss: 0.0144\n",
            "Epoch 2/50\n",
            "2708/2708 [==============================] - 11s 4ms/step - loss: 0.0062\n",
            "Epoch 3/50\n",
            "2708/2708 [==============================] - 11s 4ms/step - loss: 0.0054\n",
            "Epoch 4/50\n",
            "2708/2708 [==============================] - 11s 4ms/step - loss: 0.0043\n",
            "Epoch 5/50\n",
            "2708/2708 [==============================] - 11s 4ms/step - loss: 0.0036\n",
            "Epoch 6/50\n",
            "2708/2708 [==============================] - 11s 4ms/step - loss: 0.0033\n",
            "Epoch 7/50\n",
            "2708/2708 [==============================] - 11s 4ms/step - loss: 0.0029\n",
            "Epoch 8/50\n",
            "2708/2708 [==============================] - 11s 4ms/step - loss: 0.0030\n",
            "Epoch 9/50\n",
            "2708/2708 [==============================] - 11s 4ms/step - loss: 0.0028\n",
            "Epoch 10/50\n",
            "2708/2708 [==============================] - 11s 4ms/step - loss: 0.0026\n",
            "Epoch 11/50\n",
            "2708/2708 [==============================] - 11s 4ms/step - loss: 0.0022\n",
            "Epoch 12/50\n",
            "2708/2708 [==============================] - 11s 4ms/step - loss: 0.0022\n",
            "Epoch 13/50\n",
            "2708/2708 [==============================] - 11s 4ms/step - loss: 0.0022\n",
            "Epoch 14/50\n",
            "2708/2708 [==============================] - 11s 4ms/step - loss: 0.0022\n",
            "Epoch 15/50\n",
            "2708/2708 [==============================] - 11s 4ms/step - loss: 0.0020\n",
            "Epoch 16/50\n",
            "2708/2708 [==============================] - 11s 4ms/step - loss: 0.0019\n",
            "Epoch 17/50\n",
            "2708/2708 [==============================] - 11s 4ms/step - loss: 0.0019\n",
            "Epoch 18/50\n",
            "2708/2708 [==============================] - 11s 4ms/step - loss: 0.0017\n",
            "Epoch 19/50\n",
            "2708/2708 [==============================] - 11s 4ms/step - loss: 0.0018\n",
            "Epoch 20/50\n",
            "2708/2708 [==============================] - 11s 4ms/step - loss: 0.0017\n",
            "Epoch 21/50\n",
            "2708/2708 [==============================] - 11s 4ms/step - loss: 0.0018\n",
            "Epoch 22/50\n",
            "2708/2708 [==============================] - 11s 4ms/step - loss: 0.0016\n",
            "Epoch 23/50\n",
            "2708/2708 [==============================] - 11s 4ms/step - loss: 0.0016\n",
            "Epoch 24/50\n",
            "2708/2708 [==============================] - 11s 4ms/step - loss: 0.0015\n",
            "Epoch 25/50\n",
            "2708/2708 [==============================] - 11s 4ms/step - loss: 0.0016\n",
            "Epoch 26/50\n",
            "2708/2708 [==============================] - 11s 4ms/step - loss: 0.0015\n",
            "Epoch 27/50\n",
            "2708/2708 [==============================] - 11s 4ms/step - loss: 0.0014\n",
            "Epoch 28/50\n",
            "2708/2708 [==============================] - 11s 4ms/step - loss: 0.0015\n",
            "Epoch 29/50\n",
            "2708/2708 [==============================] - 11s 4ms/step - loss: 0.0014\n",
            "Epoch 30/50\n",
            "2708/2708 [==============================] - 12s 4ms/step - loss: 0.0014\n",
            "Epoch 31/50\n",
            "2708/2708 [==============================] - 11s 4ms/step - loss: 0.0014\n",
            "Epoch 32/50\n",
            "2708/2708 [==============================] - 11s 4ms/step - loss: 0.0013\n",
            "Epoch 33/50\n",
            "2708/2708 [==============================] - 11s 4ms/step - loss: 0.0013\n",
            "Epoch 34/50\n",
            "2708/2708 [==============================] - 11s 4ms/step - loss: 0.0014\n",
            "Epoch 35/50\n",
            "2708/2708 [==============================] - 11s 4ms/step - loss: 0.0013\n",
            "Epoch 36/50\n",
            "2708/2708 [==============================] - 11s 4ms/step - loss: 0.0014\n",
            "Epoch 37/50\n",
            "2708/2708 [==============================] - 11s 4ms/step - loss: 0.0012\n",
            "Epoch 38/50\n",
            "2708/2708 [==============================] - 11s 4ms/step - loss: 0.0013\n",
            "Epoch 39/50\n",
            "2708/2708 [==============================] - 11s 4ms/step - loss: 0.0011\n",
            "Epoch 40/50\n",
            "2708/2708 [==============================] - 11s 4ms/step - loss: 0.0012\n",
            "Epoch 41/50\n",
            "2708/2708 [==============================] - 11s 4ms/step - loss: 0.0012\n",
            "Epoch 42/50\n",
            "2708/2708 [==============================] - 11s 4ms/step - loss: 0.0012\n",
            "Epoch 43/50\n",
            "2708/2708 [==============================] - 11s 4ms/step - loss: 0.0012\n",
            "Epoch 44/50\n",
            "2708/2708 [==============================] - 11s 4ms/step - loss: 0.0011\n",
            "Epoch 45/50\n",
            "2708/2708 [==============================] - 11s 4ms/step - loss: 0.0011\n",
            "Epoch 46/50\n",
            "2708/2708 [==============================] - 11s 4ms/step - loss: 0.0011\n",
            "Epoch 47/50\n",
            "2708/2708 [==============================] - 11s 4ms/step - loss: 0.0011\n",
            "Epoch 48/50\n",
            "2708/2708 [==============================] - 11s 4ms/step - loss: 0.0012\n",
            "Epoch 49/50\n",
            "2708/2708 [==============================] - 11s 4ms/step - loss: 0.0011\n",
            "Epoch 50/50\n",
            "2708/2708 [==============================] - 11s 4ms/step - loss: 0.0012\n"
          ],
          "name": "stdout"
        },
        {
          "output_type": "execute_result",
          "data": {
            "text/plain": [
              "<keras.callbacks.callbacks.History at 0x7fd91097f908>"
            ]
          },
          "metadata": {
            "tags": []
          },
          "execution_count": 18
        }
      ]
    },
    {
      "cell_type": "code",
      "metadata": {
        "id": "HANrSpAh2CO_",
        "colab_type": "code",
        "colab": {
          "base_uri": "https://localhost:8080/",
          "height": 1000
        },
        "outputId": "a8082c58-d4b9-47f8-eea3-b047570d91fe"
      },
      "source": [
        "regressor = Sequential()\n",
        "# First LSTM layer with Dropout regularisation\n",
        "regressor.add(LSTM(units=50, return_sequences=True, input_shape=(X_trainMSFT.shape[1],1)))\n",
        "regressor.add(Dropout(0.2))\n",
        "# Second LSTM layer\n",
        "regressor.add(LSTM(units=50, return_sequences=True))\n",
        "regressor.add(Dropout(0.2))\n",
        "# Third LSTM layer\n",
        "regressor.add(LSTM(units=50, return_sequences=True))\n",
        "regressor.add(Dropout(0.2))\n",
        "# Fourth LSTM layer\n",
        "regressor.add(LSTM(units=50))\n",
        "regressor.add(Dropout(0.2))\n",
        "# The output layer\n",
        "regressor.add(Dense(units=1))\n",
        "\n",
        "# Compiling the RNN\n",
        "regressor.compile(optimizer='rmsprop',loss='mean_squared_error')\n",
        "# Fitting to the training set\n",
        "regressor.fit(X_trainMSFT,y_trainMSFT,epochs=50,batch_size=32)"
      ],
      "execution_count": null,
      "outputs": [
        {
          "output_type": "stream",
          "text": [
            "Epoch 1/50\n",
            "2708/2708 [==============================] - 12s 5ms/step - loss: 0.0201\n",
            "Epoch 2/50\n",
            "2708/2708 [==============================] - 11s 4ms/step - loss: 0.0079\n",
            "Epoch 3/50\n",
            "2708/2708 [==============================] - 11s 4ms/step - loss: 0.0059\n",
            "Epoch 4/50\n",
            "2708/2708 [==============================] - 11s 4ms/step - loss: 0.0044\n",
            "Epoch 5/50\n",
            "2708/2708 [==============================] - 11s 4ms/step - loss: 0.0040\n",
            "Epoch 6/50\n",
            "2708/2708 [==============================] - 12s 4ms/step - loss: 0.0034\n",
            "Epoch 7/50\n",
            "2708/2708 [==============================] - 11s 4ms/step - loss: 0.0033\n",
            "Epoch 8/50\n",
            "2708/2708 [==============================] - 11s 4ms/step - loss: 0.0026\n",
            "Epoch 9/50\n",
            "2708/2708 [==============================] - 11s 4ms/step - loss: 0.0024\n",
            "Epoch 10/50\n",
            "2708/2708 [==============================] - 11s 4ms/step - loss: 0.0023\n",
            "Epoch 11/50\n",
            "2708/2708 [==============================] - 11s 4ms/step - loss: 0.0022\n",
            "Epoch 12/50\n",
            "2708/2708 [==============================] - 11s 4ms/step - loss: 0.0022\n",
            "Epoch 13/50\n",
            "2708/2708 [==============================] - 11s 4ms/step - loss: 0.0021\n",
            "Epoch 14/50\n",
            "2708/2708 [==============================] - 11s 4ms/step - loss: 0.0017\n",
            "Epoch 15/50\n",
            "2708/2708 [==============================] - 11s 4ms/step - loss: 0.0018\n",
            "Epoch 16/50\n",
            "2708/2708 [==============================] - 11s 4ms/step - loss: 0.0017\n",
            "Epoch 17/50\n",
            "2708/2708 [==============================] - 12s 4ms/step - loss: 0.0016\n",
            "Epoch 18/50\n",
            "2708/2708 [==============================] - 11s 4ms/step - loss: 0.0017\n",
            "Epoch 19/50\n",
            "2708/2708 [==============================] - 11s 4ms/step - loss: 0.0014\n",
            "Epoch 20/50\n",
            "2708/2708 [==============================] - 11s 4ms/step - loss: 0.0015\n",
            "Epoch 21/50\n",
            "2708/2708 [==============================] - 11s 4ms/step - loss: 0.0015\n",
            "Epoch 22/50\n",
            "2708/2708 [==============================] - 11s 4ms/step - loss: 0.0013\n",
            "Epoch 23/50\n",
            "2708/2708 [==============================] - 11s 4ms/step - loss: 0.0013\n",
            "Epoch 24/50\n",
            "2708/2708 [==============================] - 11s 4ms/step - loss: 0.0013\n",
            "Epoch 25/50\n",
            "2708/2708 [==============================] - 11s 4ms/step - loss: 0.0013\n",
            "Epoch 26/50\n",
            "2708/2708 [==============================] - 11s 4ms/step - loss: 0.0012\n",
            "Epoch 27/50\n",
            "2708/2708 [==============================] - 11s 4ms/step - loss: 0.0012\n",
            "Epoch 28/50\n",
            "2708/2708 [==============================] - 11s 4ms/step - loss: 0.0012\n",
            "Epoch 29/50\n",
            "2708/2708 [==============================] - 11s 4ms/step - loss: 0.0011\n",
            "Epoch 30/50\n",
            "2708/2708 [==============================] - 11s 4ms/step - loss: 0.0012\n",
            "Epoch 31/50\n",
            "2708/2708 [==============================] - 11s 4ms/step - loss: 0.0011\n",
            "Epoch 32/50\n",
            "2708/2708 [==============================] - 11s 4ms/step - loss: 0.0011\n",
            "Epoch 33/50\n",
            "2708/2708 [==============================] - 12s 4ms/step - loss: 0.0010\n",
            "Epoch 34/50\n",
            "2708/2708 [==============================] - 12s 4ms/step - loss: 0.0011\n",
            "Epoch 35/50\n",
            "2708/2708 [==============================] - 11s 4ms/step - loss: 0.0011\n",
            "Epoch 36/50\n",
            "2708/2708 [==============================] - 11s 4ms/step - loss: 9.7024e-04\n",
            "Epoch 37/50\n",
            "2708/2708 [==============================] - 11s 4ms/step - loss: 0.0010\n",
            "Epoch 38/50\n",
            "2708/2708 [==============================] - 11s 4ms/step - loss: 0.0011\n",
            "Epoch 39/50\n",
            "2708/2708 [==============================] - 11s 4ms/step - loss: 0.0010\n",
            "Epoch 40/50\n",
            "2708/2708 [==============================] - 11s 4ms/step - loss: 9.8166e-04\n",
            "Epoch 41/50\n",
            "2708/2708 [==============================] - 11s 4ms/step - loss: 9.4198e-04\n",
            "Epoch 42/50\n",
            "2708/2708 [==============================] - 11s 4ms/step - loss: 9.5367e-04\n",
            "Epoch 43/50\n",
            "2708/2708 [==============================] - 11s 4ms/step - loss: 9.2264e-04\n",
            "Epoch 44/50\n",
            "2708/2708 [==============================] - 12s 4ms/step - loss: 9.2808e-04\n",
            "Epoch 45/50\n",
            "2708/2708 [==============================] - 11s 4ms/step - loss: 9.5429e-04\n",
            "Epoch 46/50\n",
            "2708/2708 [==============================] - 11s 4ms/step - loss: 9.4212e-04\n",
            "Epoch 47/50\n",
            "2708/2708 [==============================] - 11s 4ms/step - loss: 8.0944e-04\n",
            "Epoch 48/50\n",
            "2708/2708 [==============================] - 11s 4ms/step - loss: 8.5752e-04\n",
            "Epoch 49/50\n",
            "2708/2708 [==============================] - 11s 4ms/step - loss: 9.3124e-04\n",
            "Epoch 50/50\n",
            "2708/2708 [==============================] - 11s 4ms/step - loss: 8.7449e-04\n"
          ],
          "name": "stdout"
        },
        {
          "output_type": "execute_result",
          "data": {
            "text/plain": [
              "<keras.callbacks.callbacks.History at 0x7fd9101c7eb8>"
            ]
          },
          "metadata": {
            "tags": []
          },
          "execution_count": 19
        }
      ]
    },
    {
      "cell_type": "code",
      "metadata": {
        "id": "KD40oDavgep8",
        "colab_type": "code",
        "colab": {}
      },
      "source": [
        "#Reshaping and Transforming the inputs for AAPL\n",
        "dataset_totalAAPL = pd.concat((datasetAAPL[\"High\"][:'2016'],datasetAAPL[\"High\"]['2017':]),axis=0)\n",
        "inputsAAPL = dataset_totalAAPL[len(dataset_totalAAPL)-len(test_setAAPL) - 60:].values\n",
        "inputsAAPL = inputsAAPL.reshape(-1,1)\n",
        "inputsAAPL  = sc.transform(inputsAAPL)"
      ],
      "execution_count": null,
      "outputs": []
    },
    {
      "cell_type": "code",
      "metadata": {
        "id": "o2UnpMgjl5GY",
        "colab_type": "code",
        "colab": {}
      },
      "source": [
        "#Reshaping and Transforming the inputs for AMZN\n",
        "dataset_totalAMZN = pd.concat((datasetAMZN[\"High\"][:'2016'],datasetAMZN[\"High\"]['2017':]),axis=0)\n",
        "inputsAMZN = dataset_totalAMZN[len(dataset_totalAMZN)-len(test_setAMZN) - 60:].values\n",
        "inputsAMZN = inputsAMZN.reshape(-1,1)\n",
        "inputsAMZN  = sc.transform(inputsAMZN)"
      ],
      "execution_count": null,
      "outputs": []
    },
    {
      "cell_type": "code",
      "metadata": {
        "id": "s3Cw_Ddel5Uu",
        "colab_type": "code",
        "colab": {}
      },
      "source": [
        "#Reshaping and Transforming the inputs for GOOGL\n",
        "dataset_totalGOOGL = pd.concat((datasetGOOGL[\"High\"][:'2016'],datasetGOOGL[\"High\"]['2017':]),axis=0)\n",
        "inputsGOOGL = dataset_totalGOOGL[len(dataset_totalGOOGL)-len(test_setGOOGL) - 60:].values\n",
        "inputsGOOGL = inputsGOOGL.reshape(-1,1)\n",
        "inputsGOOGL  = sc.transform(inputsGOOGL)"
      ],
      "execution_count": null,
      "outputs": []
    },
    {
      "cell_type": "code",
      "metadata": {
        "id": "r7r1-Nill5h0",
        "colab_type": "code",
        "colab": {}
      },
      "source": [
        "#Reshaping and Transforming the inputs for MSFT\n",
        "dataset_totalMSFT = pd.concat((datasetMSFT[\"High\"][:'2016'],datasetMSFT[\"High\"]['2017':]),axis=0)\n",
        "inputsMSFT = dataset_totalMSFT[len(dataset_totalMSFT)-len(test_setMSFT) - 60:].values\n",
        "inputsMSFT = inputsMSFT.reshape(-1,1)\n",
        "inputsMSFT  = sc.transform(inputsMSFT)"
      ],
      "execution_count": null,
      "outputs": []
    },
    {
      "cell_type": "code",
      "metadata": {
        "id": "simKogjswpSG",
        "colab_type": "code",
        "colab": {}
      },
      "source": [
        "# Preparing X_test and predicting the prices\n",
        "X_testAAPL = []\n",
        "for i in range(60,311):\n",
        "    X_testAAPL.append(inputsAAPL[i-60:i,0])\n",
        "X_testAAPL = np.array(X_testAAPL)\n",
        "X_testAAPL = np.reshape(X_testAAPL, (X_testAAPL.shape[0],X_testAAPL.shape[1],1))\n",
        "predicted_stock_priceAAPL = regressor.predict(X_testAAPL)\n",
        "predicted_stock_priceAAPL = sc.inverse_transform(predicted_stock_priceAAPL)\n"
      ],
      "execution_count": null,
      "outputs": []
    },
    {
      "cell_type": "code",
      "metadata": {
        "id": "fTw5j77_1VjC",
        "colab_type": "code",
        "colab": {}
      },
      "source": [
        "# Preparing X_test and predicting the prices\n",
        "X_testAMZN = []\n",
        "for i in range(60,311):\n",
        "    X_testAMZN.append(inputsAMZN[i-60:i,0])\n",
        "X_testAMZN = np.array(X_testAMZN)\n",
        "X_testAMZN = np.reshape(X_testAMZN, (X_testAMZN.shape[0],X_testAMZN.shape[1],1))\n",
        "predicted_stock_priceAMZN = regressor.predict(X_testAMZN)\n",
        "predicted_stock_priceAMZN = sc.inverse_transform(predicted_stock_priceAMZN)\n",
        "\n"
      ],
      "execution_count": null,
      "outputs": []
    },
    {
      "cell_type": "code",
      "metadata": {
        "id": "Sn07pIvg2g1u",
        "colab_type": "code",
        "colab": {}
      },
      "source": [
        "# Preparing X_test and predicting the prices\n",
        "X_testGOOGL = []\n",
        "for i in range(60,311):\n",
        "    X_testGOOGL.append(inputsGOOGL[i-60:i,0])\n",
        "X_testGOOGL = np.array(X_testGOOGL)\n",
        "X_testGOOGL = np.reshape(X_testGOOGL, (X_testGOOGL.shape[0],X_testGOOGL.shape[1],1))\n",
        "predicted_stock_priceGOOGL = regressor.predict(X_testGOOGL)\n",
        "predicted_stock_priceGOOGL = sc.inverse_transform(predicted_stock_priceGOOGL)\n"
      ],
      "execution_count": null,
      "outputs": []
    },
    {
      "cell_type": "code",
      "metadata": {
        "id": "-H4sng5X21Bj",
        "colab_type": "code",
        "colab": {}
      },
      "source": [
        "# Preparing X_test and predicting the prices\n",
        "X_testMSFT = []\n",
        "for i in range(60,311):\n",
        "    X_testMSFT.append(inputsMSFT[i-60:i,0])\n",
        "X_testMSFT = np.array(X_testMSFT)\n",
        "X_testMSFT = np.reshape(X_testMSFT, (X_testMSFT.shape[0],X_testMSFT.shape[1],1))\n",
        "predicted_stock_priceMSFT = regressor.predict(X_testMSFT)\n",
        "predicted_stock_priceMSFT = sc.inverse_transform(predicted_stock_priceMSFT)\n"
      ],
      "execution_count": null,
      "outputs": []
    },
    {
      "cell_type": "code",
      "metadata": {
        "id": "wxZiwlre3G1y",
        "colab_type": "code",
        "colab": {
          "base_uri": "https://localhost:8080/",
          "height": 299
        },
        "outputId": "dde8af6a-811c-4a37-8f7a-5349a4bb81a0"
      },
      "source": [
        "# Visualizing the results for LSTM\n",
        "plot_predictions(test_setAAPL,predicted_stock_priceAAPL)"
      ],
      "execution_count": null,
      "outputs": [
        {
          "output_type": "stream",
          "text": [
            "No handles with labels found to put in legend.\n"
          ],
          "name": "stderr"
        },
        {
          "output_type": "display_data",
          "data": {
            "image/png": "[encoded data removed]",
            "text/plain": [
              "<Figure size 432x288 with 1 Axes>"
            ]
          },
          "metadata": {
            "tags": []
          }
        }
      ]
    },
    {
      "cell_type": "code",
      "metadata": {
        "id": "WM1TMsUK3PWl",
        "colab_type": "code",
        "colab": {
          "base_uri": "https://localhost:8080/",
          "height": 299
        },
        "outputId": "6865b7de-ad31-4935-c6e4-0d689b27e088"
      },
      "source": [
        "# Visualizing the results for LSTM\n",
        "plot_predictions(test_setAMZN,predicted_stock_priceAMZN)"
      ],
      "execution_count": null,
      "outputs": [
        {
          "output_type": "stream",
          "text": [
            "No handles with labels found to put in legend.\n"
          ],
          "name": "stderr"
        },
        {
          "output_type": "display_data",
          "data": {
            "image/png": "[encoded data removed]",
            "text/plain": [
              "<Figure size 432x288 with 1 Axes>"
            ]
          },
          "metadata": {
            "tags": []
          }
        }
      ]
    },
    {
      "cell_type": "code",
      "metadata": {
        "id": "Uf5zP9p53SJ3",
        "colab_type": "code",
        "colab": {
          "base_uri": "https://localhost:8080/",
          "height": 302
        },
        "outputId": "fe548f22-8424-489f-fce7-286f8491210a"
      },
      "source": [
        "# Visualizing the results for LSTM\n",
        "plot_predictions(test_setGOOGL,predicted_stock_priceGOOGL)"
      ],
      "execution_count": null,
      "outputs": [
        {
          "output_type": "stream",
          "text": [
            "No handles with labels found to put in legend.\n"
          ],
          "name": "stderr"
        },
        {
          "output_type": "display_data",
          "data": {
            "image/png": "[encoded data removed]",
            "text/plain": [
              "<Figure size 432x288 with 1 Axes>"
            ]
          },
          "metadata": {
            "tags": []
          }
        }
      ]
    },
    {
      "cell_type": "code",
      "metadata": {
        "id": "HuYJuPJy3Wak",
        "colab_type": "code",
        "colab": {
          "base_uri": "https://localhost:8080/",
          "height": 299
        },
        "outputId": "de0bae1d-39ac-4ba0-bfd9-3dcd6892ef0f"
      },
      "source": [
        "# Visualizing the results for LSTM\n",
        "plot_predictions(test_setMSFT,predicted_stock_priceMSFT)"
      ],
      "execution_count": null,
      "outputs": [
        {
          "output_type": "stream",
          "text": [
            "No handles with labels found to put in legend.\n"
          ],
          "name": "stderr"
        },
        {
          "output_type": "display_data",
          "data": {
            "image/png": "[encoded data removed]",
            "text/plain": [
              "<Figure size 432x288 with 1 Axes>"
            ]
          },
          "metadata": {
            "tags": []
          }
        }
      ]
    },
    {
      "cell_type": "code",
      "metadata": {
        "id": "toQZ-lh83bIb",
        "colab_type": "code",
        "colab": {
          "base_uri": "https://localhost:8080/",
          "height": 34
        },
        "outputId": "ce537ad1-4f88-4e08-cc33-c652b8f1c3ef"
      },
      "source": [
        "#root mean squared error\n",
        "return_rmse(test_setAAPL,predicted_stock_priceAAPL)"
      ],
      "execution_count": null,
      "outputs": [
        {
          "output_type": "stream",
          "text": [
            "The root mean squared error is 6.7568122939799595.\n"
          ],
          "name": "stdout"
        }
      ]
    },
    {
      "cell_type": "code",
      "metadata": {
        "id": "nfIMB5fQ3yo1",
        "colab_type": "code",
        "colab": {
          "base_uri": "https://localhost:8080/",
          "height": 34
        },
        "outputId": "64807b30-a4ec-47be-be7f-ef27362e8919"
      },
      "source": [
        "#root mean squared error\n",
        "return_rmse(test_setAMZN,predicted_stock_priceAMZN)"
      ],
      "execution_count": null,
      "outputs": [
        {
          "output_type": "stream",
          "text": [
            "The root mean squared error is 143.35212321650084.\n"
          ],
          "name": "stdout"
        }
      ]
    },
    {
      "cell_type": "code",
      "metadata": {
        "id": "YZZH6F9M35gc",
        "colab_type": "code",
        "colab": {
          "base_uri": "https://localhost:8080/",
          "height": 34
        },
        "outputId": "36c60aae-da72-423f-e78b-d91180dc4383"
      },
      "source": [
        "#root mean squared error\n",
        "return_rmse(test_setGOOGL,predicted_stock_priceGOOGL)"
      ],
      "execution_count": null,
      "outputs": [
        {
          "output_type": "stream",
          "text": [
            "The root mean squared error is 117.69596920427412.\n"
          ],
          "name": "stdout"
        }
      ]
    },
    {
      "cell_type": "code",
      "metadata": {
        "id": "byoVbq113_Ow",
        "colab_type": "code",
        "colab": {
          "base_uri": "https://localhost:8080/",
          "height": 34
        },
        "outputId": "6fb68e46-0902-452f-ef02-9a9e45c68355"
      },
      "source": [
        "#root mean squared error\n",
        "return_rmse(test_setMSFT,predicted_stock_priceMSFT)"
      ],
      "execution_count": null,
      "outputs": [
        {
          "output_type": "stream",
          "text": [
            "The root mean squared error is 19.31608438166749.\n"
          ],
          "name": "stdout"
        }
      ]
    },
    {
      "cell_type": "code",
      "metadata": {
        "id": "ydGvun8k4DOc",
        "colab_type": "code",
        "colab": {
          "base_uri": "https://localhost:8080/",
          "height": 1000
        },
        "outputId": "6eb1f2d2-d9e6-4e6e-8c62-af13b998edae"
      },
      "source": [
        "# The GRU architecture\n",
        "regressorGRU = Sequential()\n",
        "# First GRU layer with Dropout regularisation\n",
        "regressorGRU.add(GRU(units=50, return_sequences=True, input_shape=(X_trainAAPL.shape[1],1), activation='tanh'))\n",
        "regressorGRU.add(Dropout(0.2))\n",
        "# Second GRU layer\n",
        "regressorGRU.add(GRU(units=50, return_sequences=True, input_shape=(X_trainAAPL.shape[1],1), activation='tanh'))\n",
        "regressorGRU.add(Dropout(0.2))\n",
        "# Third GRU layer\n",
        "regressorGRU.add(GRU(units=50, return_sequences=True, input_shape=(X_trainAAPL.shape[1],1), activation='tanh'))\n",
        "regressorGRU.add(Dropout(0.2))\n",
        "# Fourth GRU layer\n",
        "regressorGRU.add(GRU(units=50, activation='tanh'))\n",
        "regressorGRU.add(Dropout(0.2))\n",
        "# The output layer\n",
        "regressorGRU.add(Dense(units=1))\n",
        "# Compiling the RNN\n",
        "regressorGRU.compile(optimizer=SGD(lr=0.01, decay=1e-7, momentum=0.9, nesterov=False),loss='mean_squared_error')\n",
        "# Fitting to the training set\n",
        "regressorGRU.fit(X_trainAAPL,y_trainAAPL,epochs=50,batch_size=150)"
      ],
      "execution_count": null,
      "outputs": [
        {
          "output_type": "stream",
          "text": [
            "Epoch 1/50\n",
            "2708/2708 [==============================] - 7s 3ms/step - loss: 0.1131\n",
            "Epoch 2/50\n",
            "2708/2708 [==============================] - 6s 2ms/step - loss: 0.0310\n",
            "Epoch 3/50\n",
            "2708/2708 [==============================] - 6s 2ms/step - loss: 0.0046\n",
            "Epoch 4/50\n",
            "2708/2708 [==============================] - 6s 2ms/step - loss: 0.0034\n",
            "Epoch 5/50\n",
            "2708/2708 [==============================] - 6s 2ms/step - loss: 0.0033\n",
            "Epoch 6/50\n",
            "2708/2708 [==============================] - 6s 2ms/step - loss: 0.0029\n",
            "Epoch 7/50\n",
            "2708/2708 [==============================] - 6s 2ms/step - loss: 0.0028\n",
            "Epoch 8/50\n",
            "2708/2708 [==============================] - 6s 2ms/step - loss: 0.0027\n",
            "Epoch 9/50\n",
            "2708/2708 [==============================] - 6s 2ms/step - loss: 0.0028\n",
            "Epoch 10/50\n",
            "2708/2708 [==============================] - 6s 2ms/step - loss: 0.0025\n",
            "Epoch 11/50\n",
            "2708/2708 [==============================] - 6s 2ms/step - loss: 0.0023\n",
            "Epoch 12/50\n",
            "2708/2708 [==============================] - 6s 2ms/step - loss: 0.0024\n",
            "Epoch 13/50\n",
            "2708/2708 [==============================] - 6s 2ms/step - loss: 0.0025\n",
            "Epoch 14/50\n",
            "2708/2708 [==============================] - 6s 2ms/step - loss: 0.0024\n",
            "Epoch 15/50\n",
            "2708/2708 [==============================] - 6s 2ms/step - loss: 0.0022\n",
            "Epoch 16/50\n",
            "2708/2708 [==============================] - 6s 2ms/step - loss: 0.0023\n",
            "Epoch 17/50\n",
            "2708/2708 [==============================] - 6s 2ms/step - loss: 0.0021\n",
            "Epoch 18/50\n",
            "2708/2708 [==============================] - 6s 2ms/step - loss: 0.0022\n",
            "Epoch 19/50\n",
            "2708/2708 [==============================] - 6s 2ms/step - loss: 0.0021\n",
            "Epoch 20/50\n",
            "2708/2708 [==============================] - 6s 2ms/step - loss: 0.0021\n",
            "Epoch 21/50\n",
            "2708/2708 [==============================] - 6s 2ms/step - loss: 0.0020\n",
            "Epoch 22/50\n",
            "2708/2708 [==============================] - 6s 2ms/step - loss: 0.0021\n",
            "Epoch 23/50\n",
            "2708/2708 [==============================] - 6s 2ms/step - loss: 0.0020\n",
            "Epoch 24/50\n",
            "2708/2708 [==============================] - 6s 2ms/step - loss: 0.0021\n",
            "Epoch 25/50\n",
            "2708/2708 [==============================] - 6s 2ms/step - loss: 0.0021\n",
            "Epoch 26/50\n",
            "2708/2708 [==============================] - 6s 2ms/step - loss: 0.0019\n",
            "Epoch 27/50\n",
            "2708/2708 [==============================] - 6s 2ms/step - loss: 0.0021\n",
            "Epoch 28/50\n",
            "2708/2708 [==============================] - 6s 2ms/step - loss: 0.0020\n",
            "Epoch 29/50\n",
            "2708/2708 [==============================] - 6s 2ms/step - loss: 0.0019\n",
            "Epoch 30/50\n",
            "2708/2708 [==============================] - 6s 2ms/step - loss: 0.0019\n",
            "Epoch 31/50\n",
            "2708/2708 [==============================] - 6s 2ms/step - loss: 0.0019\n",
            "Epoch 32/50\n",
            "2708/2708 [==============================] - 6s 2ms/step - loss: 0.0019\n",
            "Epoch 33/50\n",
            "2708/2708 [==============================] - 6s 2ms/step - loss: 0.0018\n",
            "Epoch 34/50\n",
            "2708/2708 [==============================] - 6s 2ms/step - loss: 0.0018\n",
            "Epoch 35/50\n",
            "2708/2708 [==============================] - 6s 2ms/step - loss: 0.0019\n",
            "Epoch 36/50\n",
            "2708/2708 [==============================] - 6s 2ms/step - loss: 0.0018\n",
            "Epoch 37/50\n",
            "2708/2708 [==============================] - 6s 2ms/step - loss: 0.0018\n",
            "Epoch 38/50\n",
            "2708/2708 [==============================] - 6s 2ms/step - loss: 0.0018\n",
            "Epoch 39/50\n",
            "2708/2708 [==============================] - 6s 2ms/step - loss: 0.0018\n",
            "Epoch 40/50\n",
            "2708/2708 [==============================] - 6s 2ms/step - loss: 0.0018\n",
            "Epoch 41/50\n",
            "2708/2708 [==============================] - 6s 2ms/step - loss: 0.0017\n",
            "Epoch 42/50\n",
            "2708/2708 [==============================] - 6s 2ms/step - loss: 0.0017\n",
            "Epoch 43/50\n",
            "2708/2708 [==============================] - 6s 2ms/step - loss: 0.0018\n",
            "Epoch 44/50\n",
            "2708/2708 [==============================] - 6s 2ms/step - loss: 0.0018\n",
            "Epoch 45/50\n",
            "2708/2708 [==============================] - 6s 2ms/step - loss: 0.0017\n",
            "Epoch 46/50\n",
            "2708/2708 [==============================] - 6s 2ms/step - loss: 0.0018\n",
            "Epoch 47/50\n",
            "2708/2708 [==============================] - 6s 2ms/step - loss: 0.0017\n",
            "Epoch 48/50\n",
            "2708/2708 [==============================] - 6s 2ms/step - loss: 0.0018\n",
            "Epoch 49/50\n",
            "2708/2708 [==============================] - 6s 2ms/step - loss: 0.0017\n",
            "Epoch 50/50\n",
            "2708/2708 [==============================] - 6s 2ms/step - loss: 0.0016\n"
          ],
          "name": "stdout"
        },
        {
          "output_type": "execute_result",
          "data": {
            "text/plain": [
              "<keras.callbacks.callbacks.History at 0x7fd90f3c0748>"
            ]
          },
          "metadata": {
            "tags": []
          },
          "execution_count": 37
        }
      ]
    },
    {
      "cell_type": "code",
      "metadata": {
        "id": "Yiux8LHjvTAJ",
        "colab_type": "code",
        "colab": {
          "base_uri": "https://localhost:8080/",
          "height": 1000
        },
        "outputId": "c31fdbd0-d082-4f12-b561-d0871b4ec0e7"
      },
      "source": [
        "# The GRU architecture\n",
        "regressorGRU = Sequential()\n",
        "# First GRU layer with Dropout regularisation\n",
        "regressorGRU.add(GRU(units=50, return_sequences=True, input_shape=(X_trainAMZN.shape[1],1), activation='tanh'))\n",
        "regressorGRU.add(Dropout(0.2))\n",
        "# Second GRU layer\n",
        "regressorGRU.add(GRU(units=50, return_sequences=True, input_shape=(X_trainAMZN.shape[1],1), activation='tanh'))\n",
        "regressorGRU.add(Dropout(0.2))\n",
        "# Third GRU layer\n",
        "regressorGRU.add(GRU(units=50, return_sequences=True, input_shape=(X_trainAMZN.shape[1],1), activation='tanh'))\n",
        "regressorGRU.add(Dropout(0.2))\n",
        "# Fourth GRU layer\n",
        "regressorGRU.add(GRU(units=50, activation='tanh'))\n",
        "regressorGRU.add(Dropout(0.2))\n",
        "# The output layer\n",
        "regressorGRU.add(Dense(units=1))\n",
        "# Compiling the RNN\n",
        "regressorGRU.compile(optimizer=SGD(lr=0.01, decay=1e-7, momentum=0.9, nesterov=False),loss='mean_squared_error')\n",
        "# Fitting to the training set\n",
        "regressorGRU.fit(X_trainAMZN,y_trainAMZN,epochs=50,batch_size=150)"
      ],
      "execution_count": null,
      "outputs": [
        {
          "output_type": "stream",
          "text": [
            "Epoch 1/50\n",
            "2708/2708 [==============================] - 7s 3ms/step - loss: 0.0644\n",
            "Epoch 2/50\n",
            "2708/2708 [==============================] - 6s 2ms/step - loss: 0.0327\n",
            "Epoch 3/50\n",
            "2708/2708 [==============================] - 6s 2ms/step - loss: 0.0095\n",
            "Epoch 4/50\n",
            "2708/2708 [==============================] - 6s 2ms/step - loss: 0.0030\n",
            "Epoch 5/50\n",
            "2708/2708 [==============================] - 6s 2ms/step - loss: 0.0023\n",
            "Epoch 6/50\n",
            "2708/2708 [==============================] - 6s 2ms/step - loss: 0.0021\n",
            "Epoch 7/50\n",
            "2708/2708 [==============================] - 6s 2ms/step - loss: 0.0021\n",
            "Epoch 8/50\n",
            "2708/2708 [==============================] - 6s 2ms/step - loss: 0.0019\n",
            "Epoch 9/50\n",
            "2708/2708 [==============================] - 6s 2ms/step - loss: 0.0020\n",
            "Epoch 10/50\n",
            "2708/2708 [==============================] - 6s 2ms/step - loss: 0.0019\n",
            "Epoch 11/50\n",
            "2708/2708 [==============================] - 6s 2ms/step - loss: 0.0018\n",
            "Epoch 12/50\n",
            "2708/2708 [==============================] - 6s 2ms/step - loss: 0.0018\n",
            "Epoch 13/50\n",
            "2708/2708 [==============================] - 6s 2ms/step - loss: 0.0018\n",
            "Epoch 14/50\n",
            "2708/2708 [==============================] - 6s 2ms/step - loss: 0.0017\n",
            "Epoch 15/50\n",
            "2708/2708 [==============================] - 6s 2ms/step - loss: 0.0018\n",
            "Epoch 16/50\n",
            "2708/2708 [==============================] - 6s 2ms/step - loss: 0.0018\n",
            "Epoch 17/50\n",
            "2708/2708 [==============================] - 6s 2ms/step - loss: 0.0018\n",
            "Epoch 18/50\n",
            "2708/2708 [==============================] - 6s 2ms/step - loss: 0.0017\n",
            "Epoch 19/50\n",
            "2708/2708 [==============================] - 6s 2ms/step - loss: 0.0018\n",
            "Epoch 20/50\n",
            "2708/2708 [==============================] - 6s 2ms/step - loss: 0.0016\n",
            "Epoch 21/50\n",
            "2708/2708 [==============================] - 6s 2ms/step - loss: 0.0016\n",
            "Epoch 22/50\n",
            "2708/2708 [==============================] - 6s 2ms/step - loss: 0.0017\n",
            "Epoch 23/50\n",
            "2708/2708 [==============================] - 6s 2ms/step - loss: 0.0015\n",
            "Epoch 24/50\n",
            "2708/2708 [==============================] - 6s 2ms/step - loss: 0.0017\n",
            "Epoch 25/50\n",
            "2708/2708 [==============================] - 6s 2ms/step - loss: 0.0015\n",
            "Epoch 26/50\n",
            "2708/2708 [==============================] - 6s 2ms/step - loss: 0.0015\n",
            "Epoch 27/50\n",
            "2708/2708 [==============================] - 6s 2ms/step - loss: 0.0015\n",
            "Epoch 28/50\n",
            "2708/2708 [==============================] - 6s 2ms/step - loss: 0.0015\n",
            "Epoch 29/50\n",
            "2708/2708 [==============================] - 6s 2ms/step - loss: 0.0015\n",
            "Epoch 30/50\n",
            "2708/2708 [==============================] - 6s 2ms/step - loss: 0.0016\n",
            "Epoch 31/50\n",
            "2708/2708 [==============================] - 6s 2ms/step - loss: 0.0016\n",
            "Epoch 32/50\n",
            "2708/2708 [==============================] - 6s 2ms/step - loss: 0.0014\n",
            "Epoch 33/50\n",
            "2708/2708 [==============================] - 6s 2ms/step - loss: 0.0014\n",
            "Epoch 34/50\n",
            "2708/2708 [==============================] - 6s 2ms/step - loss: 0.0016\n",
            "Epoch 35/50\n",
            "2708/2708 [==============================] - 6s 2ms/step - loss: 0.0013\n",
            "Epoch 36/50\n",
            "2708/2708 [==============================] - 6s 2ms/step - loss: 0.0014\n",
            "Epoch 37/50\n",
            "2708/2708 [==============================] - 6s 2ms/step - loss: 0.0015\n",
            "Epoch 38/50\n",
            "2708/2708 [==============================] - 6s 2ms/step - loss: 0.0015\n",
            "Epoch 39/50\n",
            "2708/2708 [==============================] - 6s 2ms/step - loss: 0.0014\n",
            "Epoch 40/50\n",
            "2708/2708 [==============================] - 6s 2ms/step - loss: 0.0014\n",
            "Epoch 41/50\n",
            "2708/2708 [==============================] - 6s 2ms/step - loss: 0.0014\n",
            "Epoch 42/50\n",
            "2708/2708 [==============================] - 6s 2ms/step - loss: 0.0014\n",
            "Epoch 43/50\n",
            "2708/2708 [==============================] - 6s 2ms/step - loss: 0.0014\n",
            "Epoch 44/50\n",
            "2708/2708 [==============================] - 6s 2ms/step - loss: 0.0015\n",
            "Epoch 45/50\n",
            "2708/2708 [==============================] - 6s 2ms/step - loss: 0.0013\n",
            "Epoch 46/50\n",
            "2708/2708 [==============================] - 6s 2ms/step - loss: 0.0015\n",
            "Epoch 47/50\n",
            "2708/2708 [==============================] - 6s 2ms/step - loss: 0.0013\n",
            "Epoch 48/50\n",
            "2708/2708 [==============================] - 6s 2ms/step - loss: 0.0014\n",
            "Epoch 49/50\n",
            "2708/2708 [==============================] - 6s 2ms/step - loss: 0.0014\n",
            "Epoch 50/50\n",
            "2708/2708 [==============================] - 6s 2ms/step - loss: 0.0015\n"
          ],
          "name": "stdout"
        },
        {
          "output_type": "execute_result",
          "data": {
            "text/plain": [
              "<keras.callbacks.callbacks.History at 0x7fd90ebbff98>"
            ]
          },
          "metadata": {
            "tags": []
          },
          "execution_count": 38
        }
      ]
    },
    {
      "cell_type": "code",
      "metadata": {
        "id": "tBTlavFhxY8x",
        "colab_type": "code",
        "colab": {
          "base_uri": "https://localhost:8080/",
          "height": 1000
        },
        "outputId": "d27c4397-b7a6-4fcd-a0b8-c59868a82ea2"
      },
      "source": [
        "# The GRU architecture\n",
        "regressorGRU = Sequential()\n",
        "# First GRU layer with Dropout regularisation\n",
        "regressorGRU.add(GRU(units=50, return_sequences=True, input_shape=(X_trainGOOGL.shape[1],1), activation='tanh'))\n",
        "regressorGRU.add(Dropout(0.2))\n",
        "# Second GRU layer\n",
        "regressorGRU.add(GRU(units=50, return_sequences=True, input_shape=(X_trainGOOGL.shape[1],1), activation='tanh'))\n",
        "regressorGRU.add(Dropout(0.2))\n",
        "# Third GRU layer\n",
        "regressorGRU.add(GRU(units=50, return_sequences=True, input_shape=(X_trainGOOGL.shape[1],1), activation='tanh'))\n",
        "regressorGRU.add(Dropout(0.2))\n",
        "# Fourth GRU layer\n",
        "regressorGRU.add(GRU(units=50, activation='tanh'))\n",
        "regressorGRU.add(Dropout(0.2))\n",
        "# The output layer\n",
        "regressorGRU.add(Dense(units=1))\n",
        "# Compiling the RNN\n",
        "regressorGRU.compile(optimizer=SGD(lr=0.01, decay=1e-7, momentum=0.9, nesterov=False),loss='mean_squared_error')\n",
        "# Fitting to the training set\n",
        "regressorGRU.fit(X_trainGOOGL,y_trainGOOGL,epochs=50,batch_size=150)"
      ],
      "execution_count": null,
      "outputs": [
        {
          "output_type": "stream",
          "text": [
            "Epoch 1/50\n",
            "2708/2708 [==============================] - 7s 3ms/step - loss: 0.0919\n",
            "Epoch 2/50\n",
            "2708/2708 [==============================] - 6s 2ms/step - loss: 0.0433\n",
            "Epoch 3/50\n",
            "2708/2708 [==============================] - 6s 2ms/step - loss: 0.0127\n",
            "Epoch 4/50\n",
            "2708/2708 [==============================] - 6s 2ms/step - loss: 0.0042\n",
            "Epoch 5/50\n",
            "2708/2708 [==============================] - 6s 2ms/step - loss: 0.0036\n",
            "Epoch 6/50\n",
            "2708/2708 [==============================] - 6s 2ms/step - loss: 0.0030\n",
            "Epoch 7/50\n",
            "2708/2708 [==============================] - 6s 2ms/step - loss: 0.0032\n",
            "Epoch 8/50\n",
            "2708/2708 [==============================] - 6s 2ms/step - loss: 0.0027\n",
            "Epoch 9/50\n",
            "2708/2708 [==============================] - 6s 2ms/step - loss: 0.0028\n",
            "Epoch 10/50\n",
            "2708/2708 [==============================] - 6s 2ms/step - loss: 0.0025\n",
            "Epoch 11/50\n",
            "2708/2708 [==============================] - 6s 2ms/step - loss: 0.0024\n",
            "Epoch 12/50\n",
            "2708/2708 [==============================] - 6s 2ms/step - loss: 0.0025\n",
            "Epoch 13/50\n",
            "2708/2708 [==============================] - 6s 2ms/step - loss: 0.0027\n",
            "Epoch 14/50\n",
            "2708/2708 [==============================] - 6s 2ms/step - loss: 0.0023\n",
            "Epoch 15/50\n",
            "2708/2708 [==============================] - 6s 2ms/step - loss: 0.0023\n",
            "Epoch 16/50\n",
            "2708/2708 [==============================] - 6s 2ms/step - loss: 0.0023\n",
            "Epoch 17/50\n",
            "2708/2708 [==============================] - 6s 2ms/step - loss: 0.0024\n",
            "Epoch 18/50\n",
            "2708/2708 [==============================] - 9s 3ms/step - loss: 0.0021\n",
            "Epoch 19/50\n",
            "2708/2708 [==============================] - 7s 2ms/step - loss: 0.0024\n",
            "Epoch 20/50\n",
            "2708/2708 [==============================] - 6s 2ms/step - loss: 0.0025\n",
            "Epoch 21/50\n",
            "2708/2708 [==============================] - 6s 2ms/step - loss: 0.0022\n",
            "Epoch 22/50\n",
            "2708/2708 [==============================] - 6s 2ms/step - loss: 0.0023\n",
            "Epoch 23/50\n",
            "2708/2708 [==============================] - 6s 2ms/step - loss: 0.0023\n",
            "Epoch 24/50\n",
            "2708/2708 [==============================] - 6s 2ms/step - loss: 0.0021\n",
            "Epoch 25/50\n",
            "2708/2708 [==============================] - 6s 2ms/step - loss: 0.0020\n",
            "Epoch 26/50\n",
            "2708/2708 [==============================] - 6s 2ms/step - loss: 0.0020\n",
            "Epoch 27/50\n",
            "2708/2708 [==============================] - 6s 2ms/step - loss: 0.0021\n",
            "Epoch 28/50\n",
            "2708/2708 [==============================] - 6s 2ms/step - loss: 0.0020\n",
            "Epoch 29/50\n",
            "2708/2708 [==============================] - 6s 2ms/step - loss: 0.0021\n",
            "Epoch 30/50\n",
            "2708/2708 [==============================] - 6s 2ms/step - loss: 0.0021\n",
            "Epoch 31/50\n",
            "2708/2708 [==============================] - 6s 2ms/step - loss: 0.0019\n",
            "Epoch 32/50\n",
            "2708/2708 [==============================] - 6s 2ms/step - loss: 0.0019\n",
            "Epoch 33/50\n",
            "2708/2708 [==============================] - 6s 2ms/step - loss: 0.0019\n",
            "Epoch 34/50\n",
            "2708/2708 [==============================] - 6s 2ms/step - loss: 0.0019\n",
            "Epoch 35/50\n",
            "2708/2708 [==============================] - 6s 2ms/step - loss: 0.0021\n",
            "Epoch 36/50\n",
            "2708/2708 [==============================] - 6s 2ms/step - loss: 0.0018\n",
            "Epoch 37/50\n",
            "2708/2708 [==============================] - 6s 2ms/step - loss: 0.0020\n",
            "Epoch 38/50\n",
            "2708/2708 [==============================] - 6s 2ms/step - loss: 0.0019\n",
            "Epoch 39/50\n",
            "2708/2708 [==============================] - 6s 2ms/step - loss: 0.0018\n",
            "Epoch 40/50\n",
            "2708/2708 [==============================] - 6s 2ms/step - loss: 0.0020\n",
            "Epoch 41/50\n",
            "2708/2708 [==============================] - 6s 2ms/step - loss: 0.0020\n",
            "Epoch 42/50\n",
            "2708/2708 [==============================] - 6s 2ms/step - loss: 0.0018\n",
            "Epoch 43/50\n",
            "2708/2708 [==============================] - 6s 2ms/step - loss: 0.0019\n",
            "Epoch 44/50\n",
            "2708/2708 [==============================] - 6s 2ms/step - loss: 0.0019\n",
            "Epoch 45/50\n",
            "2708/2708 [==============================] - 6s 2ms/step - loss: 0.0019\n",
            "Epoch 46/50\n",
            "2708/2708 [==============================] - 6s 2ms/step - loss: 0.0018\n",
            "Epoch 47/50\n",
            "2708/2708 [==============================] - 6s 2ms/step - loss: 0.0018\n",
            "Epoch 48/50\n",
            " 600/2708 [=====>........................] - ETA: 4s - loss: 0.0015"
          ],
          "name": "stdout"
        }
      ]
    },
    {
      "cell_type": "code",
      "metadata": {
        "id": "s4-uZdFey5R6",
        "colab_type": "code",
        "colab": {
          "base_uri": "https://localhost:8080/",
          "height": 1000
        },
        "outputId": "5bc1086b-d9e7-431f-81f8-4507b9a1ab50"
      },
      "source": [
        "# The GRU architecture\n",
        "regressorGRU = Sequential()\n",
        "# First GRU layer with Dropout regularisation\n",
        "regressorGRU.add(GRU(units=50, return_sequences=True, input_shape=(X_trainMSFT.shape[1],1), activation='tanh'))\n",
        "regressorGRU.add(Dropout(0.2))\n",
        "# Second GRU layer\n",
        "regressorGRU.add(GRU(units=50, return_sequences=True, input_shape=(X_trainMSFT.shape[1],1), activation='tanh'))\n",
        "regressorGRU.add(Dropout(0.2))\n",
        "# Third GRU layer\n",
        "regressorGRU.add(GRU(units=50, return_sequences=True, input_shape=(X_trainMSFT.shape[1],1), activation='tanh'))\n",
        "regressorGRU.add(Dropout(0.2))\n",
        "# Fourth GRU layer\n",
        "regressorGRU.add(GRU(units=50, activation='tanh'))\n",
        "regressorGRU.add(Dropout(0.2))\n",
        "# The output layer\n",
        "regressorGRU.add(Dense(units=1))\n",
        "# Compiling the RNN\n",
        "regressorGRU.compile(optimizer=SGD(lr=0.01, decay=1e-7, momentum=0.9, nesterov=False),loss='mean_squared_error')\n",
        "# Fitting to the training set\n",
        "regressorGRU.fit(X_trainMSFT,y_trainMSFT,epochs=50,batch_size=150)"
      ],
      "execution_count": null,
      "outputs": [
        {
          "output_type": "stream",
          "text": [
            "Epoch 1/50\n",
            "2708/2708 [==============================] - 8s 3ms/step - loss: 0.0749\n",
            "Epoch 2/50\n",
            "2708/2708 [==============================] - 6s 2ms/step - loss: 0.0288\n",
            "Epoch 3/50\n",
            "2708/2708 [==============================] - 6s 2ms/step - loss: 0.0132\n",
            "Epoch 4/50\n",
            "2708/2708 [==============================] - 6s 2ms/step - loss: 0.0043\n",
            "Epoch 5/50\n",
            "2708/2708 [==============================] - 6s 2ms/step - loss: 0.0029\n",
            "Epoch 6/50\n",
            "2708/2708 [==============================] - 6s 2ms/step - loss: 0.0026\n",
            "Epoch 7/50\n",
            "2708/2708 [==============================] - 6s 2ms/step - loss: 0.0025\n",
            "Epoch 8/50\n",
            "2708/2708 [==============================] - 6s 2ms/step - loss: 0.0022\n",
            "Epoch 9/50\n",
            "2708/2708 [==============================] - 6s 2ms/step - loss: 0.0021\n",
            "Epoch 10/50\n",
            "2708/2708 [==============================] - 6s 2ms/step - loss: 0.0020\n",
            "Epoch 11/50\n",
            "2708/2708 [==============================] - 6s 2ms/step - loss: 0.0021\n",
            "Epoch 12/50\n",
            "2708/2708 [==============================] - 6s 2ms/step - loss: 0.0019\n",
            "Epoch 13/50\n",
            "2708/2708 [==============================] - 6s 2ms/step - loss: 0.0019\n",
            "Epoch 14/50\n",
            "2708/2708 [==============================] - 6s 2ms/step - loss: 0.0019\n",
            "Epoch 15/50\n",
            "2708/2708 [==============================] - 6s 2ms/step - loss: 0.0019\n",
            "Epoch 16/50\n",
            "2708/2708 [==============================] - 6s 2ms/step - loss: 0.0018\n",
            "Epoch 17/50\n",
            "2708/2708 [==============================] - 6s 2ms/step - loss: 0.0017\n",
            "Epoch 18/50\n",
            "2708/2708 [==============================] - 6s 2ms/step - loss: 0.0016\n",
            "Epoch 19/50\n",
            "2708/2708 [==============================] - 6s 2ms/step - loss: 0.0017\n",
            "Epoch 20/50\n",
            "2708/2708 [==============================] - 6s 2ms/step - loss: 0.0017\n",
            "Epoch 21/50\n",
            "2708/2708 [==============================] - 6s 2ms/step - loss: 0.0016\n",
            "Epoch 22/50\n",
            "2708/2708 [==============================] - 6s 2ms/step - loss: 0.0015\n",
            "Epoch 23/50\n",
            "2708/2708 [==============================] - 6s 2ms/step - loss: 0.0017\n",
            "Epoch 24/50\n",
            "2708/2708 [==============================] - 6s 2ms/step - loss: 0.0016\n",
            "Epoch 25/50\n",
            "2708/2708 [==============================] - 6s 2ms/step - loss: 0.0016\n",
            "Epoch 26/50\n",
            "2708/2708 [==============================] - 6s 2ms/step - loss: 0.0016\n",
            "Epoch 27/50\n",
            "2708/2708 [==============================] - 6s 2ms/step - loss: 0.0016\n",
            "Epoch 28/50\n",
            "2708/2708 [==============================] - 6s 2ms/step - loss: 0.0016\n",
            "Epoch 29/50\n",
            "2708/2708 [==============================] - 6s 2ms/step - loss: 0.0016\n",
            "Epoch 30/50\n",
            "2708/2708 [==============================] - 6s 2ms/step - loss: 0.0016\n",
            "Epoch 31/50\n",
            "2708/2708 [==============================] - 6s 2ms/step - loss: 0.0016\n",
            "Epoch 32/50\n",
            "2708/2708 [==============================] - 6s 2ms/step - loss: 0.0015\n",
            "Epoch 33/50\n",
            "2708/2708 [==============================] - 6s 2ms/step - loss: 0.0015\n",
            "Epoch 34/50\n",
            "2708/2708 [==============================] - 6s 2ms/step - loss: 0.0015\n",
            "Epoch 35/50\n",
            "2708/2708 [==============================] - 6s 2ms/step - loss: 0.0015\n",
            "Epoch 36/50\n",
            "2708/2708 [==============================] - 6s 2ms/step - loss: 0.0014\n",
            "Epoch 37/50\n",
            "2708/2708 [==============================] - 6s 2ms/step - loss: 0.0014\n",
            "Epoch 38/50\n",
            "2708/2708 [==============================] - 6s 2ms/step - loss: 0.0015\n",
            "Epoch 39/50\n",
            "2708/2708 [==============================] - 6s 2ms/step - loss: 0.0015\n",
            "Epoch 40/50\n",
            "2708/2708 [==============================] - 6s 2ms/step - loss: 0.0016\n",
            "Epoch 41/50\n",
            "2708/2708 [==============================] - 6s 2ms/step - loss: 0.0014\n",
            "Epoch 42/50\n",
            "2708/2708 [==============================] - 6s 2ms/step - loss: 0.0014\n",
            "Epoch 43/50\n",
            "2708/2708 [==============================] - 6s 2ms/step - loss: 0.0014\n",
            "Epoch 44/50\n",
            "2708/2708 [==============================] - 6s 2ms/step - loss: 0.0015\n",
            "Epoch 45/50\n",
            "2708/2708 [==============================] - 6s 2ms/step - loss: 0.0015\n",
            "Epoch 46/50\n",
            "2708/2708 [==============================] - 6s 2ms/step - loss: 0.0014\n",
            "Epoch 47/50\n",
            "2708/2708 [==============================] - 6s 2ms/step - loss: 0.0015\n",
            "Epoch 48/50\n",
            "2708/2708 [==============================] - 6s 2ms/step - loss: 0.0013\n",
            "Epoch 49/50\n",
            "2708/2708 [==============================] - 6s 2ms/step - loss: 0.0015\n",
            "Epoch 50/50\n",
            "2708/2708 [==============================] - 6s 2ms/step - loss: 0.0014\n"
          ],
          "name": "stdout"
        },
        {
          "output_type": "execute_result",
          "data": {
            "text/plain": [
              "<keras.callbacks.callbacks.History at 0x7fd90dd7fc50>"
            ]
          },
          "metadata": {
            "tags": []
          },
          "execution_count": 40
        }
      ]
    },
    {
      "cell_type": "code",
      "metadata": {
        "id": "1oNn62wh0Y8H",
        "colab_type": "code",
        "colab": {}
      },
      "source": [
        "# Preparing X_test and predicting the prices\n",
        "X_testAAPL = []\n",
        "for i in range(60,311):\n",
        "    X_testAAPL.append(inputsAAPL[i-60:i,0])\n",
        "X_testAAPL = np.array(X_testAAPL)\n",
        "X_testAAPL = np.reshape(X_testAAPL, (X_testAAPL.shape[0],X_testAAPL.shape[1],1))\n",
        "GRU_predicted_stock_priceAAPL = regressorGRU.predict(X_testAAPL)\n",
        "GRU_predicted_stock_priceAAPL = sc.inverse_transform(GRU_predicted_stock_priceAAPL)\n",
        "\n",
        "# Preparing X_test and predicting the prices\n",
        "X_testAMZN = []\n",
        "for i in range(60,311):\n",
        "    X_testAMZN.append(inputsAMZN[i-60:i,0])\n",
        "X_testAMZN = np.array(X_testAMZN)\n",
        "X_testAMZN = np.reshape(X_testAMZN, (X_testAMZN.shape[0],X_testAMZN.shape[1],1))\n",
        "GRU_predicted_stock_priceAMZN = regressorGRU.predict(X_testAMZN)\n",
        "GRU_predicted_stock_priceAMZN = sc.inverse_transform(GRU_predicted_stock_priceAMZN)\n",
        "\n",
        "# Preparing X_test and predicting the prices\n",
        "X_testGOOGL = []\n",
        "for i in range(60,311):\n",
        "    X_testGOOGL.append(inputsGOOGL[i-60:i,0])\n",
        "X_testGOOGL = np.array(X_testGOOGL)\n",
        "X_testGOOGL = np.reshape(X_testGOOGL, (X_testGOOGL.shape[0],X_testGOOGL.shape[1],1))\n",
        "GRU_predicted_stock_priceGOOGL = regressorGRU.predict(X_testGOOGL)\n",
        "GRU_predicted_stock_priceGOOGL = sc.inverse_transform(GRU_predicted_stock_priceGOOGL)\n",
        "\n",
        "# Preparing X_test and predicting the prices\n",
        "X_testMSFT = []\n",
        "for i in range(60,311):\n",
        "    X_testMSFT.append(inputsMSFT[i-60:i,0])\n",
        "X_testMSFT = np.array(X_testMSFT)\n",
        "X_testMSFT = np.reshape(X_testMSFT, (X_testMSFT.shape[0],X_testMSFT.shape[1],1))\n",
        "GRU_predicted_stock_priceMSFT = regressorGRU.predict(X_testMSFT)\n",
        "GRU_predicted_stock_priceMSFT = sc.inverse_transform(GRU_predicted_stock_priceMSFT)"
      ],
      "execution_count": null,
      "outputs": []
    },
    {
      "cell_type": "code",
      "metadata": {
        "id": "-JmTORNz2sO2",
        "colab_type": "code",
        "colab": {
          "base_uri": "https://localhost:8080/",
          "height": 303
        },
        "outputId": "cb07a2aa-4724-4066-df2f-04b8a940f400"
      },
      "source": [
        "# Visualizing the results for GRU\n",
        "plot_predictions(test_setAAPL,GRU_predicted_stock_priceAAPL)"
      ],
      "execution_count": null,
      "outputs": [
        {
          "output_type": "stream",
          "text": [
            "No handles with labels found to put in legend.\n"
          ],
          "name": "stderr"
        },
        {
          "output_type": "display_data",
          "data": {
            "image/png": "[encoded data removed]",
            "text/plain": [
              "<Figure size 432x288 with 1 Axes>"
            ]
          },
          "metadata": {
            "tags": []
          }
        }
      ]
    },
    {
      "cell_type": "code",
      "metadata": {
        "id": "X_IMV2Zk3RMQ",
        "colab_type": "code",
        "colab": {
          "base_uri": "https://localhost:8080/",
          "height": 299
        },
        "outputId": "37bf8e37-381b-4851-81c0-2ab8ba2ba6c3"
      },
      "source": [
        "# Visualizing the results for GRU\n",
        "plot_predictions(test_setAMZN,GRU_predicted_stock_priceAMZN)"
      ],
      "execution_count": null,
      "outputs": [
        {
          "output_type": "stream",
          "text": [
            "No handles with labels found to put in legend.\n"
          ],
          "name": "stderr"
        },
        {
          "output_type": "display_data",
          "data": {
            "image/png": "[encoded data removed]",
            "text/plain": [
              "<Figure size 432x288 with 1 Axes>"
            ]
          },
          "metadata": {
            "tags": []
          }
        }
      ]
    },
    {
      "cell_type": "code",
      "metadata": {
        "id": "7VQ8IyKg3f-c",
        "colab_type": "code",
        "colab": {
          "base_uri": "https://localhost:8080/",
          "height": 304
        },
        "outputId": "073c6e15-6ba3-42d0-c9fc-14a19e094f5f"
      },
      "source": [
        "# Visualizing the results for GRU\n",
        "plot_predictions(test_setGOOGL,GRU_predicted_stock_priceGOOGL)"
      ],
      "execution_count": null,
      "outputs": [
        {
          "output_type": "stream",
          "text": [
            "No handles with labels found to put in legend.\n"
          ],
          "name": "stderr"
        },
        {
          "output_type": "display_data",
          "data": {
            "image/png": "[encoded data removed]",
            "text/plain": [
              "<Figure size 432x288 with 1 Axes>"
            ]
          },
          "metadata": {
            "tags": []
          }
        }
      ]
    },
    {
      "cell_type": "code",
      "metadata": {
        "id": "kXAiPcwf4LGF",
        "colab_type": "code",
        "colab": {
          "base_uri": "https://localhost:8080/",
          "height": 299
        },
        "outputId": "3ff1a3c6-a851-484b-8c3a-4059abcb7465"
      },
      "source": [
        "# Visualizing the results for GRU\n",
        "plot_predictions(test_setMSFT,GRU_predicted_stock_priceMSFT)"
      ],
      "execution_count": null,
      "outputs": [
        {
          "output_type": "stream",
          "text": [
            "No handles with labels found to put in legend.\n"
          ],
          "name": "stderr"
        },
        {
          "output_type": "display_data",
          "data": {
            "image/png": "[encoded data removed]",
            "text/plain": [
              "<Figure size 432x288 with 1 Axes>"
            ]
          },
          "metadata": {
            "tags": []
          }
        }
      ]
    },
    {
      "cell_type": "code",
      "metadata": {
        "id": "XfMMDPQb4r_D",
        "colab_type": "code",
        "colab": {
          "base_uri": "https://localhost:8080/",
          "height": 34
        },
        "outputId": "9abe2458-6b74-4336-c587-d94683523495"
      },
      "source": [
        "#rmse FOR apple\n",
        "return_rmse(test_setAAPL,GRU_predicted_stock_priceAAPL)"
      ],
      "execution_count": null,
      "outputs": [
        {
          "output_type": "stream",
          "text": [
            "The root mean squared error is 3.348825028479449.\n"
          ],
          "name": "stdout"
        }
      ]
    },
    {
      "cell_type": "code",
      "metadata": {
        "id": "h4jMLMhT44Yz",
        "colab_type": "code",
        "colab": {
          "base_uri": "https://localhost:8080/",
          "height": 34
        },
        "outputId": "1f21626c-3d5f-4ed0-8e32-4f94c384178f"
      },
      "source": [
        "#rmse FOR amazon\n",
        "return_rmse(test_setAMZN,GRU_predicted_stock_priceAMZN)"
      ],
      "execution_count": null,
      "outputs": [
        {
          "output_type": "stream",
          "text": [
            "The root mean squared error is 38.761336479425005.\n"
          ],
          "name": "stdout"
        }
      ]
    },
    {
      "cell_type": "code",
      "metadata": {
        "id": "dA20km-x44fe",
        "colab_type": "code",
        "colab": {
          "base_uri": "https://localhost:8080/",
          "height": 34
        },
        "outputId": "05e68e03-8f74-44f2-f930-2c06a4bb30a9"
      },
      "source": [
        "#rmse FOR google\n",
        "return_rmse(test_setGOOGL,GRU_predicted_stock_priceGOOGL)"
      ],
      "execution_count": null,
      "outputs": [
        {
          "output_type": "stream",
          "text": [
            "The root mean squared error is 29.205882140439353.\n"
          ],
          "name": "stdout"
        }
      ]
    },
    {
      "cell_type": "code",
      "metadata": {
        "id": "_u9htA0S44ml",
        "colab_type": "code",
        "colab": {
          "base_uri": "https://localhost:8080/",
          "height": 34
        },
        "outputId": "9ee482d6-a838-4925-e7cc-ed4bc7b2e49a"
      },
      "source": [
        "#rmse FOR microsoft\n",
        "return_rmse(test_setMSFT,GRU_predicted_stock_priceMSFT)"
      ],
      "execution_count": null,
      "outputs": [
        {
          "output_type": "stream",
          "text": [
            "The root mean squared error is 2.2909615407427184.\n"
          ],
          "name": "stdout"
        }
      ]
    },
    {
      "cell_type": "markdown",
      "metadata": {
        "id": "bE5LniRyxt8k",
        "colab_type": "text"
      },
      "source": [
        "# Conclusion\n",
        "\n",
        "We can clearly see that GRU works better than LSTM because the root mean square error of GRU is far lower than LSTM in all of the 4 cases of the Companies.\n",
        "\n",
        "Even the predicton of the GRU gives much clarity of how stock prices would be predicted compared to the LSTM.\n",
        "\n",
        "Although stock prices could not be predicted, this is a good excercise to practice to understand the fundamentals of LSTM and GRU."
      ]
    },
    {
      "cell_type": "code",
      "metadata": {
        "id": "5v7UUy1qze9Q",
        "colab_type": "code",
        "colab": {}
      },
      "source": [
        ""
      ],
      "execution_count": null,
      "outputs": []
    }
  ]
}